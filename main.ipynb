{
 "cells": [
  {
   "cell_type": "code",
   "execution_count": 1,
   "id": "5e5b4fd6",
   "metadata": {},
   "outputs": [
    {
     "name": "stderr",
     "output_type": "stream",
     "text": [
      "2025-04-10 17:41:23,917 WARNING absl: At this time, the v2.11+ optimizer `tf.keras.optimizers.SGD` runs slowly on M1/M2 Macs, please use the legacy Keras optimizer instead, located at `tf.keras.optimizers.legacy.SGD`.\n"
     ]
    }
   ],
   "source": [
    "from src.EfficientCategoricalModel import EfficientCategoricalModel"
   ]
  },
  {
   "cell_type": "code",
   "execution_count": 2,
   "id": "b792d40f",
   "metadata": {},
   "outputs": [
    {
     "name": "stdout",
     "output_type": "stream",
     "text": [
      "Initializing efficient categorical model training...\n",
      "feature_sets 17\n",
      "targets 37\n",
      "small 42\n",
      "medium 705\n",
      "all 2376\n",
      "Dataset has 2,746,270 rows\n",
      "Found 42 feature columns and 1 target columns\n",
      "Creating dataset pipeline...\n",
      "No model provided, creating default model...\n",
      "Model: \"sequential\"\n",
      "_________________________________________________________________\n",
      " Layer (type)                Output Shape              Param #   \n",
      "=================================================================\n",
      " dense (Dense)               (None, 128)               5504      \n",
      "                                                                 \n",
      " dropout (Dropout)           (None, 128)               0         \n",
      "                                                                 \n",
      " dense_1 (Dense)             (None, 64)                8256      \n",
      "                                                                 \n",
      " dropout_1 (Dropout)         (None, 64)                0         \n",
      "                                                                 \n",
      " dense_2 (Dense)             (None, 1)                 65        \n",
      "                                                                 \n",
      "=================================================================\n",
      "Total params: 13825 (54.00 KB)\n",
      "Trainable params: 13825 (54.00 KB)\n",
      "Non-trainable params: 0 (0.00 Byte)\n",
      "_________________________________________________________________\n",
      "Training model for 5 epochs with batch size 64...\n",
      "Epoch 1/5\n",
      "200/200 [==============================] - 6s 10ms/step - loss: 0.2468 - mae: 0.2468 - val_loss: 0.1751 - val_mae: 0.1751 - lr: 0.0100\n",
      "Epoch 2/5\n",
      "200/200 [==============================] - 1s 7ms/step - loss: 0.2027 - mae: 0.2027 - val_loss: 0.1642 - val_mae: 0.1642 - lr: 0.0100\n",
      "Epoch 3/5\n",
      "200/200 [==============================] - 1s 6ms/step - loss: 0.1888 - mae: 0.1888 - val_loss: 0.1595 - val_mae: 0.1595 - lr: 0.0100\n",
      "Epoch 4/5\n",
      "200/200 [==============================] - 1s 6ms/step - loss: 0.1781 - mae: 0.1781 - val_loss: 0.1602 - val_mae: 0.1602 - lr: 0.0100\n",
      "Epoch 5/5\n",
      "200/200 [==============================] - 1s 6ms/step - loss: 0.1722 - mae: 0.1722 - val_loss: 0.1506 - val_mae: 0.1506 - lr: 0.0100\n",
      "Model saved to: exports/model.keras\n",
      "Training complete!\n"
     ]
    }
   ],
   "source": [
    "try:\n",
    "    print(\"Initializing efficient categorical model training...\")\n",
    "\n",
    "    data_path = \"data/train.parquet\"\n",
    "    val_path = \"data/validation.parquet\"\n",
    "    meta_path = \"data/features.json\"\n",
    "    meta_model = \"data/meta_model.parquet\"\n",
    "    # Initialize model with smaller batch size\n",
    "    efficient_model = EfficientCategoricalModel(\n",
    "       \n",
    "        data_path_train = data_path, data_path_val = val_path,data_path_metadata = meta_path,data_path_meta_model = meta_model,\n",
    "        batch_size=64  # Small power-of-2 batch size for memory alignment\n",
    "        )\n",
    "        \n",
    "        # Train with fewer epochs\n",
    "    model, history = efficient_model.train(epochs=5)\n",
    "\n",
    "    \n",
    "\n",
    "        \n",
    "    print(\"Training complete!\")\n",
    "        \n",
    "except Exception as e:\n",
    "    print(f\"Error occurred: {str(e)}\")\n",
    "    import traceback\n",
    "    traceback.print_exc()\n",
    "\n",
    "    \n"
   ]
  },
  {
   "cell_type": "code",
   "execution_count": null,
   "id": "a32cdf26",
   "metadata": {},
   "outputs": [],
   "source": []
  }
 ],
 "metadata": {
  "kernelspec": {
   "display_name": ".venv",
   "language": "python",
   "name": "python3"
  },
  "language_info": {
   "codemirror_mode": {
    "name": "ipython",
    "version": 3
   },
   "file_extension": ".py",
   "mimetype": "text/x-python",
   "name": "python",
   "nbconvert_exporter": "python",
   "pygments_lexer": "ipython3",
   "version": "3.9.6"
  }
 },
 "nbformat": 4,
 "nbformat_minor": 5
}
