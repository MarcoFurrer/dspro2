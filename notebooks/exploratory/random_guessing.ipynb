{
 "cells": [
  {
   "cell_type": "markdown",
   "id": "b7806b67",
   "metadata": {},
   "source": [
    "# Random Guessing vs. Optimized Guessing\n",
    "\n",
    "This notebook compares error rates between random guessing and optimized guessing strategies based on known value distributions."
   ]
  },
  {
   "cell_type": "markdown",
   "id": "dcb44ff5",
   "metadata": {},
   "source": [
    "## Random Guessing\n",
    "\n",
    "Let's first define a random guessing strategy where we assign equal probability to each possible value."
   ]
  },
  {
   "cell_type": "code",
   "execution_count": 7,
   "id": "890e9ec7",
   "metadata": {},
   "outputs": [
    {
     "data": {
      "text/plain": [
       "{0.0: 0.2, 0.25: 0.2, 0.5: 0.2, 0.75: 0.2, 1.0: 0.2}"
      ]
     },
     "execution_count": 7,
     "metadata": {},
     "output_type": "execute_result"
    }
   ],
   "source": [
    "import numpy as np\n",
    "\n",
    "# For random guessing, we assign equal probability to each value\n",
    "possible_values = list(values_and_percentages.keys())\n",
    "random_guessing = {value: 1/len(possible_values) for value in possible_values}\n",
    "random_guessing"
   ]
  },
  {
   "cell_type": "markdown",
   "id": "0f505ab1",
   "metadata": {},
   "source": [
    "## Error Calculation for Random Guessing\n",
    "\n",
    "We'll calculate both the absolute error and mean squared error (MSE) for random guessing."
   ]
  },
  {
   "cell_type": "code",
   "execution_count": 8,
   "id": "e6f97670",
   "metadata": {},
   "outputs": [],
   "source": [
    "values_and_percentages = {\n",
    "    0.0: 0.05,\n",
    "    0.25: 0.2,\n",
    "    0.5: 0.5,\n",
    "    0.75: 0.2,\n",
    "    1.0: 0.05\n",
    "}\n"
   ]
  },
  {
   "cell_type": "markdown",
   "id": "e381e171",
   "metadata": {},
   "source": [
    "## Optimized Guessing\n",
    "\n",
    "For optimized guessing, we want to minimize the expected error by using our knowledge of the true distribution. The optimal strategy depends on our error metric:\n",
    "- For absolute error: the median minimizes the expected error\n",
    "- For MSE: the mean minimizes the expected error"
   ]
  },
  {
   "cell_type": "code",
   "execution_count": 9,
   "id": "624e472f",
   "metadata": {},
   "outputs": [
    {
     "name": "stdout",
     "output_type": "stream",
     "text": [
      "Optimal value for minimizing absolute error (median): 0.5\n",
      "Optimal value for minimizing MSE (mean): 0.5\n"
     ]
    }
   ],
   "source": [
    "# Find the optimal guessing value\n",
    "def find_median(distribution):\n",
    "    # Sort values and create cumulative distribution\n",
    "    values = sorted(distribution.keys())\n",
    "    cum_prob = 0\n",
    "    for value in values:\n",
    "        cum_prob += distribution[value]\n",
    "        if cum_prob >= 0.5:\n",
    "            return value\n",
    "    return values[-1]\n",
    "\n",
    "def find_mean(distribution):\n",
    "    return sum(value * prob for value, prob in distribution.items())\n",
    "\n",
    "# Median minimizes absolute error\n",
    "median_value = find_median(values_and_percentages)\n",
    "# Mean minimizes MSE\n",
    "mean_value = find_mean(values_and_percentages)\n",
    "\n",
    "print(f\"Optimal value for minimizing absolute error (median): {median_value}\")\n",
    "print(f\"Optimal value for minimizing MSE (mean): {mean_value}\")"
   ]
  },
  {
   "cell_type": "code",
   "execution_count": 10,
   "id": "3e0f809e",
   "metadata": {},
   "outputs": [
    {
     "name": "stdout",
     "output_type": "stream",
     "text": [
      "Random Guessing - Expected Absolute Error: 0.3400\n",
      "Random Guessing - Expected MSE: 0.1750\n"
     ]
    }
   ],
   "source": [
    "# Calculate expected random guessing error\n",
    "# For each possible prediction (guess), we calculate the weighted error across all actual values\n",
    "\n",
    "def calculate_error_metrics(guessing_strategy, true_distribution):\n",
    "    # Calculate expected absolute error\n",
    "    abs_error = 0\n",
    "    mse = 0\n",
    "    \n",
    "    for guess_value, guess_prob in guessing_strategy.items():\n",
    "        for true_value, true_prob in true_distribution.items():\n",
    "            # Contribution to expected absolute error\n",
    "            abs_error += guess_prob * true_prob * abs(guess_value - true_value)\n",
    "            # Contribution to expected MSE\n",
    "            mse += guess_prob * true_prob * (guess_value - true_value)**2\n",
    "    \n",
    "    return abs_error, mse\n",
    "\n",
    "# Calculate error for random guessing\n",
    "random_abs_error, random_mse = calculate_error_metrics(random_guessing, values_and_percentages)\n",
    "\n",
    "print(f\"Random Guessing - Expected Absolute Error: {random_abs_error:.4f}\")\n",
    "print(f\"Random Guessing - Expected MSE: {random_mse:.4f}\")"
   ]
  },
  {
   "cell_type": "code",
   "execution_count": 11,
   "id": "49d44212",
   "metadata": {},
   "outputs": [
    {
     "name": "stdout",
     "output_type": "stream",
     "text": [
      "Optimized Guessing - Expected Absolute Error: 0.1500\n",
      "Optimized Guessing - Expected MSE: 0.0500\n"
     ]
    }
   ],
   "source": [
    "# Create optimized guessing strategies\n",
    "optimized_abs_error_strategy = {value: 1.0 if value == median_value else 0.0 for value in possible_values}\n",
    "optimized_mse_strategy = {value: 1.0 if value == mean_value else 0.0 for value in possible_values}\n",
    "\n",
    "# If the mean is not exactly one of our possible values, we need a mixed strategy\n",
    "if mean_value not in possible_values:\n",
    "    # Find the closest values\n",
    "    lower_value = max([v for v in possible_values if v < mean_value], default=possible_values[0])\n",
    "    upper_value = min([v for v in possible_values if v > mean_value], default=possible_values[-1])\n",
    "    \n",
    "    # Linear interpolation to approximate the mean\n",
    "    optimized_mse_strategy = {value: 0.0 for value in possible_values}\n",
    "    if upper_value != lower_value:\n",
    "        lower_weight = (upper_value - mean_value) / (upper_value - lower_value)\n",
    "        upper_weight = (mean_value - lower_value) / (upper_value - lower_value)\n",
    "        optimized_mse_strategy[lower_value] = lower_weight\n",
    "        optimized_mse_strategy[upper_value] = upper_weight\n",
    "    else:\n",
    "        optimized_mse_strategy[lower_value] = 1.0\n",
    "\n",
    "# Calculate errors for optimized strategies\n",
    "optimized_abs_error, _ = calculate_error_metrics(optimized_abs_error_strategy, values_and_percentages)\n",
    "_, optimized_mse = calculate_error_metrics(optimized_mse_strategy, values_and_percentages)\n",
    "\n",
    "print(f\"Optimized Guessing - Expected Absolute Error: {optimized_abs_error:.4f}\")\n",
    "print(f\"Optimized Guessing - Expected MSE: {optimized_mse:.4f}\")"
   ]
  },
  {
   "cell_type": "markdown",
   "id": "a3ea1190",
   "metadata": {},
   "source": [
    "## Comparison\n",
    "\n",
    "Let's compare the improvement of optimized guessing over random guessing."
   ]
  },
  {
   "cell_type": "code",
   "execution_count": 12,
   "id": "bad391f5",
   "metadata": {},
   "outputs": [
    {
     "name": "stdout",
     "output_type": "stream",
     "text": [
      "Absolute Error Reduction: 55.88%\n",
      "MSE Reduction: 71.43%\n"
     ]
    },
    {
     "data": {
      "text/html": [
       "<div>\n",
       "<style scoped>\n",
       "    .dataframe tbody tr th:only-of-type {\n",
       "        vertical-align: middle;\n",
       "    }\n",
       "\n",
       "    .dataframe tbody tr th {\n",
       "        vertical-align: top;\n",
       "    }\n",
       "\n",
       "    .dataframe thead th {\n",
       "        text-align: right;\n",
       "    }\n",
       "</style>\n",
       "<table border=\"1\" class=\"dataframe\">\n",
       "  <thead>\n",
       "    <tr style=\"text-align: right;\">\n",
       "      <th></th>\n",
       "      <th>Strategy</th>\n",
       "      <th>Absolute Error</th>\n",
       "      <th>MSE</th>\n",
       "    </tr>\n",
       "  </thead>\n",
       "  <tbody>\n",
       "    <tr>\n",
       "      <th>0</th>\n",
       "      <td>Random Guessing</td>\n",
       "      <td>0.340000</td>\n",
       "      <td>0.175000</td>\n",
       "    </tr>\n",
       "    <tr>\n",
       "      <th>1</th>\n",
       "      <td>Optimized Guessing</td>\n",
       "      <td>0.150000</td>\n",
       "      <td>0.050000</td>\n",
       "    </tr>\n",
       "    <tr>\n",
       "      <th>2</th>\n",
       "      <td>Improvement (%)</td>\n",
       "      <td>55.882353</td>\n",
       "      <td>71.428571</td>\n",
       "    </tr>\n",
       "  </tbody>\n",
       "</table>\n",
       "</div>"
      ],
      "text/plain": [
       "             Strategy  Absolute Error        MSE\n",
       "0     Random Guessing        0.340000   0.175000\n",
       "1  Optimized Guessing        0.150000   0.050000\n",
       "2     Improvement (%)       55.882353  71.428571"
      ]
     },
     "execution_count": 12,
     "metadata": {},
     "output_type": "execute_result"
    }
   ],
   "source": [
    "abs_error_improvement = (random_abs_error - optimized_abs_error) / random_abs_error * 100\n",
    "mse_improvement = (random_mse - optimized_mse) / random_mse * 100\n",
    "\n",
    "print(f\"Absolute Error Reduction: {abs_error_improvement:.2f}%\")\n",
    "print(f\"MSE Reduction: {mse_improvement:.2f}%\")\n",
    "\n",
    "# Summary table\n",
    "import pandas as pd\n",
    "\n",
    "results = pd.DataFrame({\n",
    "    'Strategy': ['Random Guessing', 'Optimized Guessing', 'Improvement (%)'],\n",
    "    'Absolute Error': [random_abs_error, optimized_abs_error, abs_error_improvement],\n",
    "    'MSE': [random_mse, optimized_mse, mse_improvement]\n",
    "})\n",
    "\n",
    "results"
   ]
  },
  {
   "cell_type": "markdown",
   "id": "0b9cea51",
   "metadata": {},
   "source": [
    "$$\\text{MSE}_{\\text{opt}} = \\sum_t P(t) (t - \\mu)^2$$"
   ]
  }
 ],
 "metadata": {
  "kernelspec": {
   "display_name": ".venv",
   "language": "python",
   "name": "python3"
  },
  "language_info": {
   "codemirror_mode": {
    "name": "ipython",
    "version": 3
   },
   "file_extension": ".py",
   "mimetype": "text/x-python",
   "name": "python",
   "nbconvert_exporter": "python",
   "pygments_lexer": "ipython3",
   "version": "3.9.6"
  }
 },
 "nbformat": 4,
 "nbformat_minor": 5
}
