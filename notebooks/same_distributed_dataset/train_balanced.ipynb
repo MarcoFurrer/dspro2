{
 "cells": [
  {
   "cell_type": "markdown",
   "id": "03bf5f0f",
   "metadata": {},
   "source": [
    "# Training Advanced Model with Adam Optimizer\n",
    "\n",
    "This notebook demonstrates training the Advanced model using the Adam optimizer with ModelRunner on the balanced dataset."
   ]
  },
  {
   "cell_type": "code",
   "execution_count": 1,
   "id": "fa3140f3",
   "metadata": {},
   "outputs": [
    {
     "name": "stdout",
     "output_type": "stream",
     "text": [
      "Setup complete!\n"
     ]
    }
   ],
   "source": [
    "import os\n",
    "import sys\n",
    "import importlib\n",
    "import matplotlib.pyplot as plt\n",
    "import numpy as np\n",
    "\n",
    "# Add src to path for imports\n",
    "sys.path.append(os.path.join(os.path.dirname(os.getcwd()), '..', 'src'))\n",
    "\n",
    "from model_runner import ModelRunner\n",
    "\n",
    "# Set up paths to balanced dataset\n",
    "TRAIN_PATH = \"../../data/train_balanced.parquet\"\n",
    "VAL_PATH = \"../../data/validation.parquet\"\n",
    "META_PATH = \"../../data/meta_model.parquet\"\n",
    "FEATURES_PATH = \"../../data/features.json\"\n",
    "\n",
    "print(\"Setup complete!\")"
   ]
  },
  {
   "cell_type": "code",
   "execution_count": 2,
   "id": "24f6b87a",
   "metadata": {},
   "outputs": [
    {
     "name": "stdout",
     "output_type": "stream",
     "text": [
      "Loading Advanced model...\n"
     ]
    },
    {
     "name": "stderr",
     "output_type": "stream",
     "text": [
      "WARNING:absl:At this time, the v2.11+ optimizer `tf.keras.optimizers.Adam` runs slowly on M1/M2 Macs, please use the legacy Keras optimizer instead, located at `tf.keras.optimizers.legacy.Adam`.\n"
     ]
    },
    {
     "name": "stdout",
     "output_type": "stream",
     "text": [
      "Loading Adam optimizer...\n",
      "Model compiled successfully!\n",
      "Model summary:\n",
      "Model: \"Advanced\"\n",
      "_________________________________________________________________\n",
      " Layer (type)                Output Shape              Param #   \n",
      "=================================================================\n",
      " lambda_2 (Lambda)           (None, 42)                0         \n",
      "                                                                 \n",
      " dense_10 (Dense)            (None, 128)               5504      \n",
      "                                                                 \n",
      " batch_normalization_5 (Bat  (None, 128)               512       \n",
      " chNormalization)                                                \n",
      "                                                                 \n",
      " dropout_6 (Dropout)         (None, 128)               0         \n",
      "                                                                 \n",
      " dense_11 (Dense)            (None, 64)                8256      \n",
      "                                                                 \n",
      " batch_normalization_6 (Bat  (None, 64)                256       \n",
      "_________________________________________________________________\n",
      " Layer (type)                Output Shape              Param #   \n",
      "=================================================================\n",
      " lambda_2 (Lambda)           (None, 42)                0         \n",
      "                                                                 \n",
      " dense_10 (Dense)            (None, 128)               5504      \n",
      "                                                                 \n",
      " batch_normalization_5 (Bat  (None, 128)               512       \n",
      " chNormalization)                                                \n",
      "                                                                 \n",
      " dropout_6 (Dropout)         (None, 128)               0         \n",
      "                                                                 \n",
      " dense_11 (Dense)            (None, 64)                8256      \n",
      "                                                                 \n",
      " batch_normalization_6 (Bat  (None, 64)                256       \n",
      " chNormalization)                                                \n",
      "                                                                 \n",
      " dropout_7 (Dropout)         (None, 64)                0         \n",
      "                                                                 \n",
      " dense_12 (Dense)            (None, 5)                 325       \n",
      "                                                                 \n",
      " dense_13 (Dense)            (None, 5)                 30        \n",
      "                                                                 \n",
      " dense_14 (Dense)            (None, 5)                 30        \n",
      "                                                                 \n",
      " dense_15 (Dense)            (None, 5)                 30        \n",
      "                                                                 \n",
      " dense_16 (Dense)            (None, 5)                 30        \n",
      "                                                                 \n",
      "=================================================================\n",
      "Total params: 14973 (58.49 KB)\n",
      "Trainable params: 14589 (56.99 KB)\n",
      "Non-trainable params: 384 (1.50 KB)\n",
      "_________________________________________________________________\n",
      " chNormalization)                                                \n",
      "                                                                 \n",
      " dropout_7 (Dropout)         (None, 64)                0         \n",
      "                                                                 \n",
      " dense_12 (Dense)            (None, 5)                 325       \n",
      "                                                                 \n",
      " dense_13 (Dense)            (None, 5)                 30        \n",
      "                                                                 \n",
      " dense_14 (Dense)            (None, 5)                 30        \n",
      "                                                                 \n",
      " dense_15 (Dense)            (None, 5)                 30        \n",
      "                                                                 \n",
      " dense_16 (Dense)            (None, 5)                 30        \n",
      "                                                                 \n",
      "=================================================================\n",
      "Total params: 14973 (58.49 KB)\n",
      "Trainable params: 14589 (56.99 KB)\n",
      "Non-trainable params: 384 (1.50 KB)\n",
      "_________________________________________________________________\n"
     ]
    }
   ],
   "source": [
    "# Load the Advanced model and Adam optimizer\n",
    "def load_model(model_name):\n",
    "    \"\"\"Load a model by name\"\"\"\n",
    "    module = importlib.import_module(f\"models.{model_name}\")\n",
    "    return module.model\n",
    "\n",
    "def load_optimizer(optimizer_name):\n",
    "    \"\"\"Load an optimizer by name\"\"\"\n",
    "    module = importlib.import_module(f\"optimizers.{optimizer_name}\")\n",
    "    return module.optimizer\n",
    "\n",
    "# Load Advanced model and Adam optimizer\n",
    "print(\"Loading Advanced model...\")\n",
    "model = load_model(\"Advanced\")\n",
    "\n",
    "print(\"Loading Adam optimizer...\")\n",
    "optimizer = load_optimizer(\"Adam\")\n",
    "\n",
    "# Compile the model for regression\n",
    "model.compile(\n",
    "    optimizer=optimizer,\n",
    "    loss='mae',\n",
    "    metrics=['mae']\n",
    ")\n",
    "\n",
    "print(f\"Model compiled successfully!\")\n",
    "print(f\"Model summary:\")\n",
    "model.summary()"
   ]
  },
  {
   "cell_type": "code",
   "execution_count": 3,
   "id": "a924a0a6",
   "metadata": {},
   "outputs": [
    {
     "name": "stdout",
     "output_type": "stream",
     "text": [
      "Initializing ModelRunner...\n",
      "ModelRunner initialized successfully!\n",
      "Training data shape: (678340, 2415)\n",
      "Validation data shape: (3596488, 2415)\n",
      "ModelRunner initialized successfully!\n",
      "Training data shape: (678340, 2415)\n",
      "Validation data shape: (3596488, 2415)\n"
     ]
    }
   ],
   "source": [
    "# Initialize ModelRunner with the balanced dataset\n",
    "print(\"Initializing ModelRunner...\")\n",
    "\n",
    "runner = ModelRunner(\n",
    "    path_train=TRAIN_PATH,\n",
    "    path_val=VAL_PATH,\n",
    "    path_meta_model=META_PATH,\n",
    "    path_features=FEATURES_PATH,\n",
    "    batch_size=64,\n",
    "    subset_features=\"small\",  # Start with small feature set\n",
    "    model=model\n",
    ")\n",
    "\n",
    "print(\"ModelRunner initialized successfully!\")\n",
    "print(f\"Training data shape: {runner.train_dataset.shape}\")\n",
    "print(f\"Validation data shape: {runner.validation_dataset.shape}\")"
   ]
  },
  {
   "cell_type": "code",
   "execution_count": 4,
   "id": "85902f44",
   "metadata": {},
   "outputs": [
    {
     "name": "stdout",
     "output_type": "stream",
     "text": [
      "Starting training...\n",
      "Training samples: 610,506\n",
      "Validation samples: 67,834\n",
      "Model: \"Advanced\"\n",
      "_________________________________________________________________\n",
      " Layer (type)                Output Shape              Param #   \n",
      "=================================================================\n",
      " lambda_2 (Lambda)           (None, 42)                0         \n",
      "                                                                 \n",
      " dense_10 (Dense)            (None, 128)               5504      \n",
      "_________________________________________________________________\n",
      " Layer (type)                Output Shape              Param #   \n",
      "=================================================================\n",
      " lambda_2 (Lambda)           (None, 42)                0         \n",
      "                                                                 \n",
      " dense_10 (Dense)            (None, 128)               5504      \n",
      "                                                                 \n",
      " batch_normalization_5 (Bat  (None, 128)               512       \n",
      " chNormalization)                                                \n",
      "                                                                 \n",
      " dropout_6 (Dropout)         (None, 128)               0         \n",
      "                                                                 \n",
      " dense_11 (Dense)            (None, 64)                8256      \n",
      "                                                                 \n",
      " batch_normalization_6 (Bat  (None, 64)                256       \n",
      " chNormalization)                                                \n",
      "                                                                 \n",
      " dropout_7 (Dropout)         (None, 64)                0         \n",
      "                                                                 \n",
      " dense_12 (Dense)            (None, 5)                 325       \n",
      "                                                                 \n",
      " dense_13 (Dense)            (None, 5)                 30        \n",
      "                                                                 \n",
      " dense_14 (Dense)            (None, 5)                 30        \n",
      "                                                                 \n",
      " dense_15 (Dense)            (None, 5)                 30        \n",
      "                                                                 \n",
      " dense_16 (Dense)            (None, 5)                 30        \n",
      "                                                                 \n",
      "=================================================================\n",
      "                                                                 \n",
      " batch_normalization_5 (Bat  (None, 128)               512       \n",
      " chNormalization)                                                \n",
      "                                                                 \n",
      " dropout_6 (Dropout)         (None, 128)               0         \n",
      "                                                                 \n",
      " dense_11 (Dense)            (None, 64)                8256      \n",
      "                                                                 \n",
      " batch_normalization_6 (Bat  (None, 64)                256       \n",
      " chNormalization)                                                \n",
      "                                                                 \n",
      " dropout_7 (Dropout)         (None, 64)                0         \n",
      "                                                                 \n",
      " dense_12 (Dense)            (None, 5)                 325       \n",
      "                                                                 \n",
      " dense_13 (Dense)            (None, 5)                 30        \n",
      "                                                                 \n",
      " dense_14 (Dense)            (None, 5)                 30        \n",
      "                                                                 \n",
      " dense_15 (Dense)            (None, 5)                 30        \n",
      "                                                                 \n",
      " dense_16 (Dense)            (None, 5)                 30        \n",
      "                                                                 \n",
      "=================================================================\n",
      "Total params: 14973 (58.49 KB)\n",
      "Trainable params: 14589 (56.99 KB)\n",
      "Non-trainable params: 384 (1.50 KB)\n",
      "Total params: 14973 (58.49 KB)\n",
      "Trainable params: 14589 (56.99 KB)\n",
      "Non-trainable params: 384 (1.50 KB)\n",
      "_________________________________________________________________\n",
      "_________________________________________________________________\n",
      "Training model for 10 epochs with batch size 64...\n",
      "Training model for 10 epochs with batch size 64...\n",
      "Epoch 1/10\n",
      "Epoch 1/10\n",
      "9540/9540 [==============================] - 10s 992us/step - loss: 0.3802 - mae: 0.3802 - val_loss: 0.3785 - val_mae: 0.3785 - lr: 0.0010\n",
      "Epoch 2/10\n",
      "9540/9540 [==============================] - 10s 992us/step - loss: 0.3802 - mae: 0.3802 - val_loss: 0.3785 - val_mae: 0.3785 - lr: 0.0010\n",
      "Epoch 2/10\n",
      "9540/9540 [==============================] - 9s 963us/step - loss: 0.3802 - mae: 0.3802 - val_loss: 0.3785 - val_mae: 0.3785 - lr: 0.0010\n",
      "Epoch 3/10\n",
      "9540/9540 [==============================] - 9s 963us/step - loss: 0.3802 - mae: 0.3802 - val_loss: 0.3785 - val_mae: 0.3785 - lr: 0.0010\n",
      "Epoch 3/10\n",
      "9525/9540 [============================>.] - ETA: 0s - loss: 0.3801 - mae: 0.3801\n",
      "Epoch 3: ReduceLROnPlateau reducing learning rate to 0.0005000000237487257.\n",
      "9540/9540 [==============================] - 9s 928us/step - loss: 0.3802 - mae: 0.3802 - val_loss: 0.3785 - val_mae: 0.3785 - lr: 0.0010\n",
      "Epoch 4/10\n",
      "   1/9540 [..............................] - ETA: 13s - loss: 0.3289 - mae: 0.3289\n",
      "Epoch 3: ReduceLROnPlateau reducing learning rate to 0.0005000000237487257.\n",
      "9540/9540 [==============================] - 9s 928us/step - loss: 0.3802 - mae: 0.3802 - val_loss: 0.3785 - val_mae: 0.3785 - lr: 0.0010\n",
      "Epoch 4/10\n",
      "9534/9540 [============================>.] - ETA: 0s - loss: 0.3802 - mae: 0.3802Restoring model weights from the end of the best epoch: 1.\n",
      "9540/9540 [==============================] - 9s 940us/step - loss: 0.3802 - mae: 0.3802 - val_loss: 0.3785 - val_mae: 0.3785 - lr: 5.0000e-04\n",
      "Epoch 4: early stopping\n",
      "Restoring model weights from the end of the best epoch: 1.\n",
      "9540/9540 [==============================] - 9s 940us/step - loss: 0.3802 - mae: 0.3802 - val_loss: 0.3785 - val_mae: 0.3785 - lr: 5.0000e-04\n",
      "Epoch 4: early stopping\n",
      "Model saved to: exports/model.keras\n",
      "Training completed!\n",
      "Model saved to: exports/model.keras\n",
      "Training completed!\n"
     ]
    }
   ],
   "source": [
    "# Train the model\n",
    "print(\"Starting training...\")\n",
    "\n",
    "# Train for 10 epochs initially\n",
    "model, history = runner.train(epochs=10)\n",
    "\n",
    "print(\"Training completed!\")"
   ]
  },
  {
   "cell_type": "code",
   "execution_count": 5,
   "id": "a7f4508f",
   "metadata": {},
   "outputs": [
    {
     "data": {
      "image/png": "[encoded data removed]",
      "text/plain": [
       "<Figure size 1200x400 with 2 Axes>"
      ]
     },
     "metadata": {},
     "output_type": "display_data"
    },
    {
     "name": "stdout",
     "output_type": "stream",
     "text": [
      "Final training loss: 0.3198\n",
      "Final validation loss: 0.3198\n"
     ]
    }
   ],
   "source": [
    "# Visualize training history\n",
    "fig, (ax1, ax2) = plt.subplots(1, 2, figsize=(12, 4))\n",
    "\n",
    "# Plot training & validation loss\n",
    "ax1.plot(history.history['loss'], label='Training Loss')\n",
    "ax1.plot(history.history['val_loss'], label='Validation Loss')\n",
    "ax1.set_title('Model Loss')\n",
    "ax1.set_xlabel('Epoch')\n",
    "ax1.set_ylabel('Loss (MAE)')\n",
    "ax1.legend()\n",
    "ax1.grid(True)\n",
    "\n",
    "# Plot training & validation MAE\n",
    "ax2.plot(history.history['mae'], label='Training MAE')\n",
    "ax2.plot(history.history['val_mae'], label='Validation MAE')\n",
    "ax2.set_title('Model MAE')\n",
    "ax2.set_xlabel('Epoch')\n",
    "ax2.set_ylabel('MAE')\n",
    "ax2.legend()\n",
    "ax2.grid(True)\n",
    "\n",
    "plt.tight_layout()\n",
    "plt.show()\n",
    "\n",
    "print(f\"Final training loss: {history.history['loss'][-1]:.4f}\")\n",
    "print(f\"Final validation loss: {history.history['val_loss'][-1]:.4f}\")"
   ]
  },
  {
   "cell_type": "code",
   "execution_count": 5,
   "id": "4d30541f",
   "metadata": {},
   "outputs": [
    {
     "name": "stdout",
     "output_type": "stream",
     "text": [
      "Running validation...\n",
      "Preparing validation data...\n",
      "Using 145 eras for validation\n",
      "Using 145 eras for validation\n",
      "Final validation samples: 890,622\n",
      "Final validation samples: 890,622\n",
      "27832/27832 [==============================] - 12s 419us/step\n",
      "27832/27832 [==============================] - 12s 419us/step\n"
     ]
    },
    {
     "ename": "ValueError",
     "evalue": "Expected a 1D array, got an array with shape (890622, 5)",
     "output_type": "error",
     "traceback": [
      "\u001b[0;31m---------------------------------------------------------------------------\u001b[0m",
      "\u001b[0;31mKeyError\u001b[0m                                  Traceback (most recent call last)",
      "File \u001b[0;32m~/Documents/github/dspro2/.venv/lib/python3.9/site-packages/pandas/core/indexes/base.py:3652\u001b[0m, in \u001b[0;36mIndex.get_loc\u001b[0;34m(self, key)\u001b[0m\n\u001b[1;32m   3651\u001b[0m \u001b[38;5;28;01mtry\u001b[39;00m:\n\u001b[0;32m-> 3652\u001b[0m     \u001b[38;5;28;01mreturn\u001b[39;00m \u001b[38;5;28;43mself\u001b[39;49m\u001b[38;5;241;43m.\u001b[39;49m\u001b[43m_engine\u001b[49m\u001b[38;5;241;43m.\u001b[39;49m\u001b[43mget_loc\u001b[49m\u001b[43m(\u001b[49m\u001b[43mcasted_key\u001b[49m\u001b[43m)\u001b[49m\n\u001b[1;32m   3653\u001b[0m \u001b[38;5;28;01mexcept\u001b[39;00m \u001b[38;5;167;01mKeyError\u001b[39;00m \u001b[38;5;28;01mas\u001b[39;00m err:\n",
      "File \u001b[0;32m~/Documents/github/dspro2/.venv/lib/python3.9/site-packages/pandas/_libs/index.pyx:147\u001b[0m, in \u001b[0;36mpandas._libs.index.IndexEngine.get_loc\u001b[0;34m()\u001b[0m\n",
      "File \u001b[0;32m~/Documents/github/dspro2/.venv/lib/python3.9/site-packages/pandas/_libs/index.pyx:176\u001b[0m, in \u001b[0;36mpandas._libs.index.IndexEngine.get_loc\u001b[0;34m()\u001b[0m\n",
      "File \u001b[0;32mpandas/_libs/hashtable_class_helper.pxi:7080\u001b[0m, in \u001b[0;36mpandas._libs.hashtable.PyObjectHashTable.get_item\u001b[0;34m()\u001b[0m\n",
      "File \u001b[0;32mpandas/_libs/hashtable_class_helper.pxi:7088\u001b[0m, in \u001b[0;36mpandas._libs.hashtable.PyObjectHashTable.get_item\u001b[0;34m()\u001b[0m\n",
      "\u001b[0;31mKeyError\u001b[0m: 'prediction'",
      "\nThe above exception was the direct cause of the following exception:\n",
      "\u001b[0;31mKeyError\u001b[0m                                  Traceback (most recent call last)",
      "File \u001b[0;32m~/Documents/github/dspro2/.venv/lib/python3.9/site-packages/pandas/core/frame.py:4119\u001b[0m, in \u001b[0;36mDataFrame._set_item_mgr\u001b[0;34m(self, key, value)\u001b[0m\n\u001b[1;32m   4118\u001b[0m \u001b[38;5;28;01mtry\u001b[39;00m:\n\u001b[0;32m-> 4119\u001b[0m     loc \u001b[38;5;241m=\u001b[39m \u001b[38;5;28;43mself\u001b[39;49m\u001b[38;5;241;43m.\u001b[39;49m\u001b[43m_info_axis\u001b[49m\u001b[38;5;241;43m.\u001b[39;49m\u001b[43mget_loc\u001b[49m\u001b[43m(\u001b[49m\u001b[43mkey\u001b[49m\u001b[43m)\u001b[49m\n\u001b[1;32m   4120\u001b[0m \u001b[38;5;28;01mexcept\u001b[39;00m \u001b[38;5;167;01mKeyError\u001b[39;00m:\n\u001b[1;32m   4121\u001b[0m     \u001b[38;5;66;03m# This item wasn't present, just insert at end\u001b[39;00m\n",
      "File \u001b[0;32m~/Documents/github/dspro2/.venv/lib/python3.9/site-packages/pandas/core/indexes/base.py:3654\u001b[0m, in \u001b[0;36mIndex.get_loc\u001b[0;34m(self, key)\u001b[0m\n\u001b[1;32m   3653\u001b[0m \u001b[38;5;28;01mexcept\u001b[39;00m \u001b[38;5;167;01mKeyError\u001b[39;00m \u001b[38;5;28;01mas\u001b[39;00m err:\n\u001b[0;32m-> 3654\u001b[0m     \u001b[38;5;28;01mraise\u001b[39;00m \u001b[38;5;167;01mKeyError\u001b[39;00m(key) \u001b[38;5;28;01mfrom\u001b[39;00m\u001b[38;5;250m \u001b[39m\u001b[38;5;21;01merr\u001b[39;00m\n\u001b[1;32m   3655\u001b[0m \u001b[38;5;28;01mexcept\u001b[39;00m \u001b[38;5;167;01mTypeError\u001b[39;00m:\n\u001b[1;32m   3656\u001b[0m     \u001b[38;5;66;03m# If we have a listlike key, _check_indexing_error will raise\u001b[39;00m\n\u001b[1;32m   3657\u001b[0m     \u001b[38;5;66;03m#  InvalidIndexError. Otherwise we fall through and re-raise\u001b[39;00m\n\u001b[1;32m   3658\u001b[0m     \u001b[38;5;66;03m#  the TypeError.\u001b[39;00m\n",
      "\u001b[0;31mKeyError\u001b[0m: 'prediction'",
      "\nDuring handling of the above exception, another exception occurred:\n",
      "\u001b[0;31mValueError\u001b[0m                                Traceback (most recent call last)",
      "Cell \u001b[0;32mIn[5], line 3\u001b[0m\n\u001b[1;32m      1\u001b[0m \u001b[38;5;66;03m# Run validation\u001b[39;00m\n\u001b[1;32m      2\u001b[0m \u001b[38;5;28mprint\u001b[39m(\u001b[38;5;124m\"\u001b[39m\u001b[38;5;124mRunning validation...\u001b[39m\u001b[38;5;124m\"\u001b[39m)\n\u001b[0;32m----> 3\u001b[0m validation_results \u001b[38;5;241m=\u001b[39m \u001b[43mrunner\u001b[49m\u001b[38;5;241;43m.\u001b[39;49m\u001b[43mvalidate_model\u001b[49m\u001b[43m(\u001b[49m\u001b[43m)\u001b[49m\n\u001b[1;32m      5\u001b[0m \u001b[38;5;28mprint\u001b[39m(\u001b[38;5;124m\"\u001b[39m\u001b[38;5;124mValidation completed!\u001b[39m\u001b[38;5;124m\"\u001b[39m)\n\u001b[1;32m      6\u001b[0m \u001b[38;5;28mprint\u001b[39m(\u001b[38;5;124mf\u001b[39m\u001b[38;5;124m\"\u001b[39m\u001b[38;5;124mValidation results keys: \u001b[39m\u001b[38;5;132;01m{\u001b[39;00mvalidation_results\u001b[38;5;241m.\u001b[39mkeys()\u001b[38;5;132;01m}\u001b[39;00m\u001b[38;5;124m\"\u001b[39m)\n",
      "File \u001b[0;32m~/Documents/github/dspro2/notebooks/../src/model_runner.py:188\u001b[0m, in \u001b[0;36mModelRunner.validate_model\u001b[0;34m(self)\u001b[0m\n\u001b[1;32m    184\u001b[0m \u001b[38;5;28mprint\u001b[39m(\u001b[38;5;124mf\u001b[39m\u001b[38;5;124m\"\u001b[39m\u001b[38;5;124mFinal validation samples: \u001b[39m\u001b[38;5;132;01m{\u001b[39;00m\u001b[38;5;28mlen\u001b[39m(validation)\u001b[38;5;132;01m:\u001b[39;00m\u001b[38;5;124m,\u001b[39m\u001b[38;5;132;01m}\u001b[39;00m\u001b[38;5;124m\"\u001b[39m)\n\u001b[1;32m    185\u001b[0m X_val \u001b[38;5;241m=\u001b[39m validation[\n\u001b[1;32m    186\u001b[0m     \u001b[38;5;28mself\u001b[39m\u001b[38;5;241m.\u001b[39mfeature_set[\u001b[38;5;124m\"\u001b[39m\u001b[38;5;124mfeature_sets\u001b[39m\u001b[38;5;124m\"\u001b[39m][\u001b[38;5;28mself\u001b[39m\u001b[38;5;241m.\u001b[39msubset_features]\n\u001b[1;32m    187\u001b[0m ]\u001b[38;5;241m.\u001b[39mvalues\u001b[38;5;241m.\u001b[39mastype(np\u001b[38;5;241m.\u001b[39mfloat32)\n\u001b[0;32m--> 188\u001b[0m \u001b[43mvalidation\u001b[49m\u001b[43m[\u001b[49m\u001b[38;5;124;43m\"\u001b[39;49m\u001b[38;5;124;43mprediction\u001b[39;49m\u001b[38;5;124;43m\"\u001b[39;49m\u001b[43m]\u001b[49m \u001b[38;5;241m=\u001b[39m \u001b[38;5;28mself\u001b[39m\u001b[38;5;241m.\u001b[39mmodel\u001b[38;5;241m.\u001b[39mpredict(X_val, verbose\u001b[38;5;241m=\u001b[39m\u001b[38;5;241m1\u001b[39m)\u001b[38;5;241m.\u001b[39msqueeze()\n\u001b[1;32m    190\u001b[0m \u001b[38;5;28;01mreturn\u001b[39;00m validation\n",
      "File \u001b[0;32m~/Documents/github/dspro2/.venv/lib/python3.9/site-packages/pandas/core/frame.py:3959\u001b[0m, in \u001b[0;36mDataFrame.__setitem__\u001b[0;34m(self, key, value)\u001b[0m\n\u001b[1;32m   3956\u001b[0m     \u001b[38;5;28mself\u001b[39m\u001b[38;5;241m.\u001b[39m_setitem_array([key], value)\n\u001b[1;32m   3957\u001b[0m \u001b[38;5;28;01melse\u001b[39;00m:\n\u001b[1;32m   3958\u001b[0m     \u001b[38;5;66;03m# set column\u001b[39;00m\n\u001b[0;32m-> 3959\u001b[0m     \u001b[38;5;28;43mself\u001b[39;49m\u001b[38;5;241;43m.\u001b[39;49m\u001b[43m_set_item\u001b[49m\u001b[43m(\u001b[49m\u001b[43mkey\u001b[49m\u001b[43m,\u001b[49m\u001b[43m \u001b[49m\u001b[43mvalue\u001b[49m\u001b[43m)\u001b[49m\n",
      "File \u001b[0;32m~/Documents/github/dspro2/.venv/lib/python3.9/site-packages/pandas/core/frame.py:4165\u001b[0m, in \u001b[0;36mDataFrame._set_item\u001b[0;34m(self, key, value)\u001b[0m\n\u001b[1;32m   4162\u001b[0m         \u001b[38;5;28;01mif\u001b[39;00m \u001b[38;5;28misinstance\u001b[39m(existing_piece, DataFrame):\n\u001b[1;32m   4163\u001b[0m             value \u001b[38;5;241m=\u001b[39m np\u001b[38;5;241m.\u001b[39mtile(value, (\u001b[38;5;28mlen\u001b[39m(existing_piece\u001b[38;5;241m.\u001b[39mcolumns), \u001b[38;5;241m1\u001b[39m))\u001b[38;5;241m.\u001b[39mT\n\u001b[0;32m-> 4165\u001b[0m \u001b[38;5;28;43mself\u001b[39;49m\u001b[38;5;241;43m.\u001b[39;49m\u001b[43m_set_item_mgr\u001b[49m\u001b[43m(\u001b[49m\u001b[43mkey\u001b[49m\u001b[43m,\u001b[49m\u001b[43m \u001b[49m\u001b[43mvalue\u001b[49m\u001b[43m)\u001b[49m\n",
      "File \u001b[0;32m~/Documents/github/dspro2/.venv/lib/python3.9/site-packages/pandas/core/frame.py:4122\u001b[0m, in \u001b[0;36mDataFrame._set_item_mgr\u001b[0;34m(self, key, value)\u001b[0m\n\u001b[1;32m   4119\u001b[0m     loc \u001b[38;5;241m=\u001b[39m \u001b[38;5;28mself\u001b[39m\u001b[38;5;241m.\u001b[39m_info_axis\u001b[38;5;241m.\u001b[39mget_loc(key)\n\u001b[1;32m   4120\u001b[0m \u001b[38;5;28;01mexcept\u001b[39;00m \u001b[38;5;167;01mKeyError\u001b[39;00m:\n\u001b[1;32m   4121\u001b[0m     \u001b[38;5;66;03m# This item wasn't present, just insert at end\u001b[39;00m\n\u001b[0;32m-> 4122\u001b[0m     \u001b[38;5;28;43mself\u001b[39;49m\u001b[38;5;241;43m.\u001b[39;49m\u001b[43m_mgr\u001b[49m\u001b[38;5;241;43m.\u001b[39;49m\u001b[43minsert\u001b[49m\u001b[43m(\u001b[49m\u001b[38;5;28;43mlen\u001b[39;49m\u001b[43m(\u001b[49m\u001b[38;5;28;43mself\u001b[39;49m\u001b[38;5;241;43m.\u001b[39;49m\u001b[43m_info_axis\u001b[49m\u001b[43m)\u001b[49m\u001b[43m,\u001b[49m\u001b[43m \u001b[49m\u001b[43mkey\u001b[49m\u001b[43m,\u001b[49m\u001b[43m \u001b[49m\u001b[43mvalue\u001b[49m\u001b[43m)\u001b[49m\n\u001b[1;32m   4123\u001b[0m \u001b[38;5;28;01melse\u001b[39;00m:\n\u001b[1;32m   4124\u001b[0m     \u001b[38;5;28mself\u001b[39m\u001b[38;5;241m.\u001b[39m_iset_item_mgr(loc, value)\n",
      "File \u001b[0;32m~/Documents/github/dspro2/.venv/lib/python3.9/site-packages/pandas/core/internals/managers.py:1403\u001b[0m, in \u001b[0;36mBlockManager.insert\u001b[0;34m(self, loc, item, value)\u001b[0m\n\u001b[1;32m   1401\u001b[0m     value \u001b[38;5;241m=\u001b[39m value\u001b[38;5;241m.\u001b[39mT\n\u001b[1;32m   1402\u001b[0m     \u001b[38;5;28;01mif\u001b[39;00m \u001b[38;5;28mlen\u001b[39m(value) \u001b[38;5;241m>\u001b[39m \u001b[38;5;241m1\u001b[39m:\n\u001b[0;32m-> 1403\u001b[0m         \u001b[38;5;28;01mraise\u001b[39;00m \u001b[38;5;167;01mValueError\u001b[39;00m(\n\u001b[1;32m   1404\u001b[0m             \u001b[38;5;124mf\u001b[39m\u001b[38;5;124m\"\u001b[39m\u001b[38;5;124mExpected a 1D array, got an array with shape \u001b[39m\u001b[38;5;132;01m{\u001b[39;00mvalue\u001b[38;5;241m.\u001b[39mT\u001b[38;5;241m.\u001b[39mshape\u001b[38;5;132;01m}\u001b[39;00m\u001b[38;5;124m\"\u001b[39m\n\u001b[1;32m   1405\u001b[0m         )\n\u001b[1;32m   1406\u001b[0m \u001b[38;5;28;01melse\u001b[39;00m:\n\u001b[1;32m   1407\u001b[0m     value \u001b[38;5;241m=\u001b[39m ensure_block_shape(value, ndim\u001b[38;5;241m=\u001b[39m\u001b[38;5;28mself\u001b[39m\u001b[38;5;241m.\u001b[39mndim)\n",
      "\u001b[0;31mValueError\u001b[0m: Expected a 1D array, got an array with shape (890622, 5)"
     ]
    }
   ],
   "source": [
    "# Run validation\n",
    "print(\"Running validation...\")\n",
    "validation_results = runner.validate_model()\n",
    "\n",
    "print(\"Validation completed!\")\n",
    "print(f\"Validation results keys: {validation_results.keys()}\")"
   ]
  },
  {
   "cell_type": "code",
   "execution_count": null,
   "id": "7867b43d",
   "metadata": {},
   "outputs": [],
   "source": [
    "# Evaluate performance\n",
    "print(\"Evaluating performance...\")\n",
    "performance_results = runner.performance_eval()\n",
    "\n",
    "print(\"Performance evaluation completed!\")\n",
    "print(\"\\n=== TRAINING SUMMARY ===\")\n",
    "print(f\"Model: Advanced\")\n",
    "print(f\"Optimizer: Adam\")\n",
    "print(f\"Dataset: Balanced\")\n",
    "print(f\"Feature set: {runner.subset_features}\")\n",
    "print(f\"Epochs trained: {len(history.history['loss'])}\")\n",
    "print(f\"Final training MAE: {history.history['mae'][-1]:.4f}\")\n",
    "print(f\"Final validation MAE: {history.history['val_mae'][-1]:.4f}\")"
   ]
  },
  {
   "cell_type": "code",
   "execution_count": 6,
   "id": "77875036",
   "metadata": {},
   "outputs": [
    {
     "name": "stdout",
     "output_type": "stream",
     "text": [
      "Generating predictions...\n"
     ]
    },
    {
     "ename": "TypeError",
     "evalue": "predict() missing 1 required positional argument: 'X'",
     "output_type": "error",
     "traceback": [
      "\u001b[0;31m---------------------------------------------------------------------------\u001b[0m",
      "\u001b[0;31mTypeError\u001b[0m                                 Traceback (most recent call last)",
      "Cell \u001b[0;32mIn[6], line 3\u001b[0m\n\u001b[1;32m      1\u001b[0m \u001b[38;5;66;03m# Generate predictions on validation set\u001b[39;00m\n\u001b[1;32m      2\u001b[0m \u001b[38;5;28mprint\u001b[39m(\u001b[38;5;124m\"\u001b[39m\u001b[38;5;124mGenerating predictions...\u001b[39m\u001b[38;5;124m\"\u001b[39m)\n\u001b[0;32m----> 3\u001b[0m predictions \u001b[38;5;241m=\u001b[39m \u001b[43mrunner\u001b[49m\u001b[38;5;241;43m.\u001b[39;49m\u001b[43mpredict\u001b[49m\u001b[43m(\u001b[49m\u001b[43m)\u001b[49m\n\u001b[1;32m      5\u001b[0m \u001b[38;5;28mprint\u001b[39m(\u001b[38;5;124mf\u001b[39m\u001b[38;5;124m\"\u001b[39m\u001b[38;5;124mPredictions shape: \u001b[39m\u001b[38;5;132;01m{\u001b[39;00mpredictions\u001b[38;5;241m.\u001b[39mshape\u001b[38;5;132;01m}\u001b[39;00m\u001b[38;5;124m\"\u001b[39m)\n\u001b[1;32m      6\u001b[0m \u001b[38;5;28mprint\u001b[39m(\u001b[38;5;124mf\u001b[39m\u001b[38;5;124m\"\u001b[39m\u001b[38;5;124mPredictions range: [\u001b[39m\u001b[38;5;132;01m{\u001b[39;00mpredictions\u001b[38;5;241m.\u001b[39mmin()\u001b[38;5;132;01m:\u001b[39;00m\u001b[38;5;124m.4f\u001b[39m\u001b[38;5;132;01m}\u001b[39;00m\u001b[38;5;124m, \u001b[39m\u001b[38;5;132;01m{\u001b[39;00mpredictions\u001b[38;5;241m.\u001b[39mmax()\u001b[38;5;132;01m:\u001b[39;00m\u001b[38;5;124m.4f\u001b[39m\u001b[38;5;132;01m}\u001b[39;00m\u001b[38;5;124m]\u001b[39m\u001b[38;5;124m\"\u001b[39m)\n",
      "\u001b[0;31mTypeError\u001b[0m: predict() missing 1 required positional argument: 'X'"
     ]
    }
   ],
   "source": [
    "# Generate predictions on validation set\n",
    "print(\"Generating predictions...\")\n",
    "predictions = runner.predict()\n",
    "\n",
    "print(f\"Predictions shape: {predictions.shape}\")\n",
    "print(f\"Predictions range: [{predictions.min():.4f}, {predictions.max():.4f}]\")\n",
    "print(f\"Predictions mean: {predictions.mean():.4f}\")\n",
    "print(f\"Predictions std: {predictions.std():.4f}\")\n",
    "\n",
    "# Plot prediction distribution\n",
    "plt.figure(figsize=(10, 6))\n",
    "plt.hist(predictions, bins=50, alpha=0.7, edgecolor='black')\n",
    "plt.title('Distribution of Predictions')\n",
    "plt.xlabel('Predicted Values')\n",
    "plt.ylabel('Frequency')\n",
    "plt.grid(True, alpha=0.3)\n",
    "plt.show()\n",
    "\n",
    "print(\"Prediction analysis completed!\")"
   ]
  },
  {
   "cell_type": "markdown",
   "id": "19152ce7",
   "metadata": {},
   "source": [
    "## Training Results Summary\n",
    "\n",
    "This notebook successfully trained the Advanced model using the Adam optimizer on the balanced dataset. Key observations:\n",
    "\n",
    "1. **Model Performance**: The model trained successfully with MAE loss function suitable for regression\n",
    "2. **Training Stability**: Training and validation losses should show convergence\n",
    "3. **Prediction Distribution**: Predictions are distributed in the expected range [0, 1]\n",
    "4. **Dataset Balance**: Using the balanced dataset ensures fair representation across target classes\n",
    "\n",
    "### Next Steps:\n",
    "- Experiment with different feature sets (medium, all)\n",
    "- Try different optimizers (SGD, RMSprop)\n",
    "- Adjust batch sizes and epochs\n",
    "- Compare with other model architectures (Base, Deep)"
   ]
  }
 ],
 "metadata": {
  "kernelspec": {
   "display_name": ".venv",
   "language": "python",
   "name": "python3"
  },
  "language_info": {
   "codemirror_mode": {
    "name": "ipython",
    "version": 3
   },
   "file_extension": ".py",
   "mimetype": "text/x-python",
   "name": "python",
   "nbconvert_exporter": "python",
   "pygments_lexer": "ipython3",
   "version": "3.9.6"
  }
 },
 "nbformat": 4,
 "nbformat_minor": 5
}
