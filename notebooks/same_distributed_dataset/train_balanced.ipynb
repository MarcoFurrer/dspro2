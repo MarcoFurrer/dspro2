{
 "cells": [
  {
   "cell_type": "markdown",
   "id": "03bf5f0f",
   "metadata": {},
   "source": [
    "# Training Advanced Model with Adam Optimizer\n",
    "\n",
    "This notebook demonstrates training the Advanced model using the Adam optimizer with ModelRunner on the balanced dataset."
   ]
  },
  {
   "cell_type": "code",
   "execution_count": 3,
   "id": "fa3140f3",
   "metadata": {},
   "outputs": [
    {
     "name": "stdout",
     "output_type": "stream",
     "text": [
      "Setup complete!\n"
     ]
    }
   ],
   "source": [
    "import os\n",
    "import sys\n",
    "import importlib\n",
    "import matplotlib.pyplot as plt\n",
    "import numpy as np\n",
    "\n",
    "sys.path.append('../../src')\n",
    "\n",
    "from model_runner import ModelRunner\n",
    "\n",
    "# Set up paths to balanced dataset\n",
    "TRAIN_PATH = \"../../data/train_balanced.parquet\"\n",
    "VAL_PATH = \"../../data/validation.parquet\"\n",
    "META_PATH = \"../../data/meta_model.parquet\"\n",
    "FEATURES_PATH = \"../../data/features.json\"\n",
    "\n",
    "print(\"Setup complete!\")"
   ]
  },
  {
   "cell_type": "code",
   "execution_count": 4,
   "id": "24f6b87a",
   "metadata": {},
   "outputs": [
    {
     "name": "stdout",
     "output_type": "stream",
     "text": [
      "Loading Advanced model...\n"
     ]
    },
    {
     "name": "stderr",
     "output_type": "stream",
     "text": [
      "WARNING:absl:At this time, the v2.11+ optimizer `tf.keras.optimizers.Adam` runs slowly on M1/M2 Macs, please use the legacy Keras optimizer instead, located at `tf.keras.optimizers.legacy.Adam`.\n"
     ]
    },
    {
     "name": "stdout",
     "output_type": "stream",
     "text": [
      "Loading Adam optimizer...\n",
      "Model compiled successfully!\n",
      "Model summary:\n",
      "Model: \"Advanced\"\n",
      "_________________________________________________________________\n",
      " Layer (type)                Output Shape              Param #   \n",
      "=================================================================\n",
      " lambda_2 (Lambda)           (None, 42)                0         \n",
      "                                                                 \n",
      " dense_10 (Dense)            (None, 128)               5504      \n",
      "                                                                 \n",
      " batch_normalization_5 (Bat  (None, 128)               512       \n",
      " chNormalization)                                                \n",
      "                                                                 \n",
      " dropout_6 (Dropout)         (None, 128)               0         \n",
      "                                                                 \n",
      " dense_11 (Dense)            (None, 64)                8256      \n",
      "                                                                 \n",
      " batch_normalization_6 (Bat  (None, 64)                256       \n",
      " chNormalization)                                                \n",
      "                                                                 \n",
      " dropout_7 (Dropout)         (None, 64)                0         \n",
      "                                                                 \n",
      " dense_12 (Dense)            (None, 5)                 325       \n",
      "                                                                 \n",
      " dense_13 (Dense)            (None, 5)                 30        \n",
      "                                                                 \n",
      " dense_14 (Dense)            (None, 5)                 30        \n",
      "                                                                 \n",
      " dense_15 (Dense)            (None, 5)                 30        \n",
      "                                                                 \n",
      " dense_16 (Dense)            (None, 1)                 6         \n",
      "                                                                 \n",
      "=================================================================\n",
      "Total params: 14949 (58.39 KB)\n",
      "Trainable params: 14565 (56.89 KB)\n",
      "Non-trainable params: 384 (1.50 KB)\n",
      "_________________________________________________________________\n"
     ]
    }
   ],
   "source": [
    "# Load the Advanced model and Adam optimizer\n",
    "def load_model(model_name):\n",
    "    \"\"\"Load a model by name\"\"\"\n",
    "    module = importlib.import_module(f\"models.{model_name}\")\n",
    "    return module.model\n",
    "\n",
    "def load_optimizer(optimizer_name):\n",
    "    \"\"\"Load an optimizer by name\"\"\"\n",
    "    module = importlib.import_module(f\"optimizers.{optimizer_name}\")\n",
    "    return module.optimizer\n",
    "\n",
    "# Load Advanced model and Adam optimizer\n",
    "print(\"Loading Advanced model...\")\n",
    "model = load_model(\"Advanced\")\n",
    "\n",
    "print(\"Loading Adam optimizer...\")\n",
    "optimizer = load_optimizer(\"Adam\")\n",
    "\n",
    "# Compile the model for regression\n",
    "model.compile(\n",
    "    optimizer=optimizer,\n",
    "    loss='mae',\n",
    "    metrics=['mae']\n",
    ")\n",
    "\n",
    "print(f\"Model compiled successfully!\")\n",
    "print(f\"Model summary:\")\n",
    "model.summary()"
   ]
  },
  {
   "cell_type": "code",
   "execution_count": 5,
   "id": "a924a0a6",
   "metadata": {},
   "outputs": [
    {
     "name": "stdout",
     "output_type": "stream",
     "text": [
      "Initializing ModelRunner...\n",
      "ModelRunner initialized successfully!\n",
      "Training data shape: (678340, 2415)\n",
      "Validation data shape: (3596488, 2415)\n",
      "ModelRunner initialized successfully!\n",
      "Training data shape: (678340, 2415)\n",
      "Validation data shape: (3596488, 2415)\n"
     ]
    }
   ],
   "source": [
    "# Initialize ModelRunner with the balanced dataset\n",
    "print(\"Initializing ModelRunner...\")\n",
    "\n",
    "runner = ModelRunner(\n",
    "    path_train=TRAIN_PATH,\n",
    "    path_val=VAL_PATH,\n",
    "    path_meta_model=META_PATH,\n",
    "    path_features=FEATURES_PATH,\n",
    "    batch_size=64,\n",
    "    subset_features=\"small\",  # Start with small feature set\n",
    "    model=model\n",
    ")\n",
    "\n",
    "print(\"ModelRunner initialized successfully!\")\n",
    "print(f\"Training data shape: {runner.train_dataset.shape}\")\n",
    "print(f\"Validation data shape: {runner.validation_dataset.shape}\")"
   ]
  },
  {
   "cell_type": "code",
   "execution_count": 6,
   "id": "85902f44",
   "metadata": {},
   "outputs": [
    {
     "name": "stdout",
     "output_type": "stream",
     "text": [
      "Starting training...\n",
      "Training samples: 610,506\n",
      "Validation samples: 67,834\n",
      "Model: \"Advanced\"\n",
      "_________________________________________________________________\n",
      " Layer (type)                Output Shape              Param #   \n",
      "=================================================================\n",
      " lambda_2 (Lambda)           (None, 42)                0         \n",
      "                                                                 \n",
      " dense_10 (Dense)            (None, 128)               5504      \n",
      "                                                                 \n",
      " batch_normalization_5 (Bat  (None, 128)               512       \n",
      " chNormalization)                                                \n",
      "                                                                 \n",
      " dropout_6 (Dropout)         (None, 128)               0         \n",
      "                                                                 \n",
      " dense_11 (Dense)            (None, 64)                8256      \n",
      "                                                                 \n",
      " batch_normalization_6 (Bat  (None, 64)                256       \n",
      " chNormalization)                                                \n",
      "                                                                 \n",
      " dropout_7 (Dropout)         (None, 64)                0         \n",
      "                                                                 \n",
      " dense_12 (Dense)            (None, 5)                 325       \n",
      "                                                                 \n",
      " dense_13 (Dense)            (None, 5)                 30        \n",
      "                                                                 \n",
      " dense_14 (Dense)            (None, 5)                 30        \n",
      "                                                                 \n",
      " dense_15 (Dense)            (None, 5)                 30        \n",
      "                                                                 \n",
      " dense_16 (Dense)            (None, 1)                 6         \n",
      "                                                                 \n",
      "=================================================================\n",
      "Total params: 14949 (58.39 KB)\n",
      "Trainable params: 14565 (56.89 KB)\n",
      "Non-trainable params: 384 (1.50 KB)\n",
      "_________________________________________________________________\n",
      "Training model for 10 epochs with batch size 64...\n",
      "Epoch 1/10\n",
      "9540/9540 [==============================] - 10s 953us/step - loss: 0.4998 - mae: 0.4998 - val_loss: 0.5021 - val_mae: 0.5021 - lr: 0.0010\n",
      "Epoch 2/10\n",
      "9540/9540 [==============================] - 9s 928us/step - loss: 0.4998 - mae: 0.4998 - val_loss: 0.5021 - val_mae: 0.5021 - lr: 0.0010\n",
      "Epoch 3/10\n",
      "9482/9540 [============================>.] - ETA: 0s - loss: 0.4998 - mae: 0.4998\n",
      "Epoch 3: ReduceLROnPlateau reducing learning rate to 0.0005000000237487257.\n",
      "9540/9540 [==============================] - 9s 904us/step - loss: 0.4998 - mae: 0.4998 - val_loss: 0.5021 - val_mae: 0.5021 - lr: 0.0010\n",
      "Epoch 4/10\n",
      "9491/9540 [============================>.] - ETA: 0s - loss: 0.4997 - mae: 0.4997Restoring model weights from the end of the best epoch: 1.\n",
      "9540/9540 [==============================] - 9s 903us/step - loss: 0.4998 - mae: 0.4998 - val_loss: 0.5021 - val_mae: 0.5021 - lr: 5.0000e-04\n",
      "Epoch 4: early stopping\n",
      "Model saved to: exports/model.keras\n",
      "Training completed!\n"
     ]
    }
   ],
   "source": [
    "# Train the model\n",
    "print(\"Starting training...\")\n",
    "\n",
    "# Train for 10 epochs initially\n",
    "model, history = runner.train(epochs=10)\n",
    "\n",
    "print(\"Training completed!\")"
   ]
  },
  {
   "cell_type": "code",
   "execution_count": 7,
   "id": "a7f4508f",
   "metadata": {},
   "outputs": [
    {
     "data": {
      "image/png": "[encoded data removed]",
      "text/plain": [
       "<Figure size 1200x400 with 2 Axes>"
      ]
     },
     "metadata": {},
     "output_type": "display_data"
    },
    {
     "name": "stdout",
     "output_type": "stream",
     "text": [
      "Final training loss: 0.4998\n",
      "Final validation loss: 0.5021\n"
     ]
    }
   ],
   "source": [
    "# Visualize training history\n",
    "fig, (ax1, ax2) = plt.subplots(1, 2, figsize=(12, 4))\n",
    "\n",
    "# Plot training & validation loss\n",
    "ax1.plot(history.history['loss'], label='Training Loss')\n",
    "ax1.plot(history.history['val_loss'], label='Validation Loss')\n",
    "ax1.set_title('Model Loss')\n",
    "ax1.set_xlabel('Epoch')\n",
    "ax1.set_ylabel('Loss (MAE)')\n",
    "ax1.legend()\n",
    "ax1.grid(True)\n",
    "\n",
    "# Plot training & validation MAE\n",
    "ax2.plot(history.history['mae'], label='Training MAE')\n",
    "ax2.plot(history.history['val_mae'], label='Validation MAE')\n",
    "ax2.set_title('Model MAE')\n",
    "ax2.set_xlabel('Epoch')\n",
    "ax2.set_ylabel('MAE')\n",
    "ax2.legend()\n",
    "ax2.grid(True)\n",
    "\n",
    "plt.tight_layout()\n",
    "plt.show()\n",
    "\n",
    "print(f\"Final training loss: {history.history['loss'][-1]:.4f}\")\n",
    "print(f\"Final validation loss: {history.history['val_loss'][-1]:.4f}\")"
   ]
  },
  {
   "cell_type": "code",
   "execution_count": 8,
   "id": "4d30541f",
   "metadata": {},
   "outputs": [
    {
     "name": "stdout",
     "output_type": "stream",
     "text": [
      "Running validation...\n",
      "Preparing validation data...\n",
      "Using 145 eras for validation\n",
      "Final validation samples: 890,622\n",
      "27832/27832 [==============================] - 11s 400us/step\n",
      "Validation completed!\n",
      "Validation results keys: Index(['era', 'data_type', 'feature_shaded_hallucinatory_dactylology',\n",
      "       'feature_itinerant_hexahedral_photoengraver',\n",
      "       'feature_prudent_pileate_oven', 'feature_subalpine_apothegmatical_ajax',\n",
      "       'feature_pistachio_atypical_malison',\n",
      "       'feature_symmetrical_spongy_tricentenary',\n",
      "       'feature_ungrounded_transpontine_winder',\n",
      "       'feature_aseptic_eely_hemiplegia',\n",
      "       ...\n",
      "       'target_teager2b_60', 'target_tyler_20', 'target_tyler_60',\n",
      "       'target_victor_20', 'target_victor_60', 'target_waldo_20',\n",
      "       'target_waldo_60', 'target_xerxes_20', 'target_xerxes_60',\n",
      "       'prediction'],\n",
      "      dtype='object', length=2416)\n"
     ]
    }
   ],
   "source": [
    "# Run validation\n",
    "print(\"Running validation...\")\n",
    "validation_results = runner.validate_model()\n",
    "\n",
    "print(\"Validation completed!\")\n",
    "print(f\"Validation results keys: {validation_results.keys()}\")"
   ]
  },
  {
   "cell_type": "code",
   "execution_count": 9,
   "id": "7867b43d",
   "metadata": {},
   "outputs": [
    {
     "name": "stdout",
     "output_type": "stream",
     "text": [
      "Evaluating performance...\n",
      "Please run validation before evaluating the performance!\n",
      "Performance evaluation completed!\n",
      "\n",
      "=== TRAINING SUMMARY ===\n",
      "Model: Advanced\n",
      "Optimizer: Adam\n",
      "Dataset: Balanced\n",
      "Feature set: small\n",
      "Epochs trained: 4\n",
      "Final training MAE: 0.4998\n",
      "Final validation MAE: 0.5021\n"
     ]
    }
   ],
   "source": [
    "# Evaluate performance\n",
    "print(\"Evaluating performance...\")\n",
    "performance_results = runner.performance_eval()\n",
    "\n",
    "print(\"Performance evaluation completed!\")\n",
    "print(\"\\n=== TRAINING SUMMARY ===\")\n",
    "print(f\"Model: Advanced\")\n",
    "print(f\"Optimizer: Adam\")\n",
    "print(f\"Dataset: Balanced\")\n",
    "print(f\"Feature set: {runner.subset_features}\")\n",
    "print(f\"Epochs trained: {len(history.history['loss'])}\")\n",
    "print(f\"Final training MAE: {history.history['mae'][-1]:.4f}\")\n",
    "print(f\"Final validation MAE: {history.history['val_mae'][-1]:.4f}\")"
   ]
  },
  {
   "cell_type": "code",
   "execution_count": 12,
   "id": "77875036",
   "metadata": {},
   "outputs": [
    {
     "name": "stdout",
     "output_type": "stream",
     "text": [
      "Loading live tournament data...\n",
      "Live data shape: (6382, 2415)\n",
      "Generating predictions on live tournament data...\n",
      "200/200 [==============================] - 0s 465us/step\n",
      "Predictions shape: (6382, 1)\n",
      "Predictions range: [1.0000, 1.0000]\n",
      "Predictions mean: 1.0000\n",
      "Predictions std: 0.0000\n"
     ]
    },
    {
     "data": {
      "image/png": "[encoded data removed]",
      "text/plain": [
       "<Figure size 1200x500 with 2 Axes>"
      ]
     },
     "metadata": {},
     "output_type": "display_data"
    },
    {
     "name": "stdout",
     "output_type": "stream",
     "text": [
      "Live prediction analysis completed!\n",
      "\n",
      "First 10 predictions:\n",
      "                  prediction\n",
      "id                          \n",
      "n001775ef80c9a46         1.0\n",
      "n002e8a888b4ae0c         1.0\n",
      "n002f664bbff3730         1.0\n",
      "n0040131291ab478         1.0\n",
      "n00515c75fbeae40         1.0\n",
      "n006b2968f9439e9         1.0\n",
      "n007a78e24d1d6fc         1.0\n",
      "n008d47a66de3de0         1.0\n",
      "n009542576f29c48         1.0\n",
      "n00986638c1ca2a0         1.0\n"
     ]
    }
   ],
   "source": [
    "import pandas as pd\n",
    "# Generate predictions on live tournament data\n",
    "print(\"Loading live tournament data...\")\n",
    "LIVE_PATH = \"../../data/live.parquet\"\n",
    "\n",
    "# Load live data\n",
    "live_data = pd.read_parquet(LIVE_PATH)\n",
    "print(f\"Live data shape: {live_data.shape}\")\n",
    "\n",
    "# Get feature columns\n",
    "feature_cols = runner.feature_set[\"feature_sets\"][runner.subset_features]\n",
    "\n",
    "# Generate predictions on live data\n",
    "print(\"Generating predictions on live tournament data...\")\n",
    "X_live = live_data[feature_cols].values.astype(np.float32)\n",
    "predictions = runner.predict(X_live)\n",
    "\n",
    "print(f\"Predictions shape: {predictions.shape}\")\n",
    "print(f\"Predictions range: [{predictions.min():.4f}, {predictions.max():.4f}]\")\n",
    "print(f\"Predictions mean: {predictions.mean():.4f}\")\n",
    "print(f\"Predictions std: {predictions.std():.4f}\")\n",
    "\n",
    "# Add predictions to live data\n",
    "live_data['prediction'] = predictions\n",
    "\n",
    "# Plot prediction distribution\n",
    "plt.figure(figsize=(12, 5))\n",
    "\n",
    "# Plot 1: Prediction distribution\n",
    "plt.subplot(1, 2, 1)\n",
    "plt.hist(predictions, bins=50, alpha=0.7, edgecolor='black')\n",
    "plt.title('Distribution of Live Predictions')\n",
    "plt.xlabel('Predicted Values')\n",
    "plt.ylabel('Frequency')\n",
    "plt.grid(True, alpha=0.3)\n",
    "\n",
    "# Plot 2: Predictions by era (if era column exists)\n",
    "if 'era' in live_data.columns:\n",
    "    plt.subplot(1, 2, 2)\n",
    "    era_means = live_data.groupby('era')['prediction'].mean()\n",
    "    plt.plot(era_means.index, era_means.values, marker='o', linewidth=2)\n",
    "    plt.title('Mean Predictions by Era')\n",
    "    plt.xlabel('Era')\n",
    "    plt.ylabel('Mean Prediction')\n",
    "    plt.grid(True, alpha=0.3)\n",
    "    plt.xticks(rotation=45)\n",
    "\n",
    "plt.tight_layout()\n",
    "plt.show()\n",
    "\n",
    "print(\"Live prediction analysis completed!\")\n",
    "\n",
    "# Show first few predictions\n",
    "print(\"\\nFirst 10 predictions:\")\n",
    "if 'id' in live_data.columns:\n",
    "    print(live_data[['id', 'prediction']].head(10))\n",
    "else:\n",
    "    print(live_data[['prediction']].head(10))"
   ]
  },
  {
   "cell_type": "markdown",
   "id": "19152ce7",
   "metadata": {},
   "source": [
    "## Training Results Summary\n",
    "\n",
    "This notebook successfully trained the Advanced model using the Adam optimizer on the balanced dataset. Key observations:\n",
    "\n",
    "1. **Model Performance**: The model trained successfully with MAE loss function suitable for regression\n",
    "2. **Training Stability**: Training and validation losses should show convergence\n",
    "3. **Prediction Distribution**: Predictions are distributed in the expected range [0, 1]\n",
    "4. **Dataset Balance**: Using the balanced dataset ensures fair representation across target classes\n",
    "\n",
    "### Next Steps:\n",
    "- Experiment with different feature sets (medium, all)\n",
    "- Try different optimizers (SGD, RMSprop)\n",
    "- Adjust batch sizes and epochs\n",
    "- Compare with other model architectures (Base, Deep)"
   ]
  }
 ],
 "metadata": {
  "kernelspec": {
   "display_name": ".venv",
   "language": "python",
   "name": "python3"
  },
  "language_info": {
   "codemirror_mode": {
    "name": "ipython",
    "version": 3
   },
   "file_extension": ".py",
   "mimetype": "text/x-python",
   "name": "python",
   "nbconvert_exporter": "python",
   "pygments_lexer": "ipython3",
   "version": "3.9.6"
  }
 },
 "nbformat": 4,
 "nbformat_minor": 5
}
