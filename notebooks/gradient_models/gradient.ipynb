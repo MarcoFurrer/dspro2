{
 "cells": [
  {
   "cell_type": "markdown",
   "id": "ffa77aca",
   "metadata": {},
   "source": [
    "# Regression Model Training and Evaluation\n",
    "This notebook explores data in the data/ directory, builds a regression model, and evaluates its performance."
   ]
  },
  {
   "cell_type": "code",
   "execution_count": 2,
   "id": "5d5e4e95",
   "metadata": {},
   "outputs": [
    {
     "ename": "ValueError",
     "evalue": "numpy.dtype size changed, may indicate binary incompatibility. Expected 96 from C header, got 88 from PyObject",
     "output_type": "error",
     "traceback": [
      "\u001b[0;31m---------------------------------------------------------------------------\u001b[0m",
      "\u001b[0;31mValueError\u001b[0m                                Traceback (most recent call last)",
      "Cell \u001b[0;32mIn[2], line 11\u001b[0m\n\u001b[1;32m      9\u001b[0m \u001b[38;5;28;01mimport\u001b[39;00m\u001b[38;5;250m \u001b[39m\u001b[38;5;21;01mseaborn\u001b[39;00m\u001b[38;5;250m \u001b[39m\u001b[38;5;28;01mas\u001b[39;00m\u001b[38;5;250m \u001b[39m\u001b[38;5;21;01msns\u001b[39;00m\n\u001b[1;32m     10\u001b[0m \u001b[38;5;28;01mfrom\u001b[39;00m\u001b[38;5;250m \u001b[39m\u001b[38;5;21;01msklearn\u001b[39;00m\u001b[38;5;21;01m.\u001b[39;00m\u001b[38;5;21;01mmetrics\u001b[39;00m\u001b[38;5;250m \u001b[39m\u001b[38;5;28;01mimport\u001b[39;00m mean_squared_error, mean_absolute_error, r2_score\n\u001b[0;32m---> 11\u001b[0m \u001b[38;5;28;01mfrom\u001b[39;00m\u001b[38;5;250m \u001b[39m\u001b[38;5;21;01mcatboost\u001b[39;00m\u001b[38;5;250m \u001b[39m\u001b[38;5;28;01mimport\u001b[39;00m CatBoostRegressor\n",
      "File \u001b[0;32m~/miniconda3/envs/numerai-env/lib/python3.10/site-packages/catboost/__init__.py:1\u001b[0m\n\u001b[0;32m----> 1\u001b[0m \u001b[38;5;28;01mfrom\u001b[39;00m\u001b[38;5;250m \u001b[39m\u001b[38;5;21;01m.\u001b[39;00m\u001b[38;5;21;01mcore\u001b[39;00m\u001b[38;5;250m \u001b[39m\u001b[38;5;28;01mimport\u001b[39;00m (\n\u001b[1;32m      2\u001b[0m     FeaturesData, EFstrType, EShapCalcType, EFeaturesSelectionAlgorithm, EFeaturesSelectionGrouping,\n\u001b[1;32m      3\u001b[0m     Pool, CatBoost, CatBoostClassifier, CatBoostRegressor, CatBoostRanker, CatBoostError, cv, train,\n\u001b[1;32m      4\u001b[0m     sum_models, _have_equal_features, to_regressor, to_classifier, to_ranker, MultiRegressionCustomMetric,\n\u001b[1;32m      5\u001b[0m     MultiRegressionCustomObjective, MultiTargetCustomMetric, MultiTargetCustomObjective\n\u001b[1;32m      6\u001b[0m )  \u001b[38;5;66;03m# noqa\u001b[39;00m\n\u001b[1;32m      7\u001b[0m \u001b[38;5;28;01mfrom\u001b[39;00m\u001b[38;5;250m \u001b[39m\u001b[38;5;21;01m.\u001b[39;00m\u001b[38;5;21;01mversion\u001b[39;00m\u001b[38;5;250m \u001b[39m\u001b[38;5;28;01mimport\u001b[39;00m VERSION \u001b[38;5;28;01mas\u001b[39;00m __version__  \u001b[38;5;66;03m# noqa\u001b[39;00m\n\u001b[1;32m      8\u001b[0m __all__ \u001b[38;5;241m=\u001b[39m [\n\u001b[1;32m      9\u001b[0m     \u001b[38;5;124m'\u001b[39m\u001b[38;5;124mFeaturesData\u001b[39m\u001b[38;5;124m'\u001b[39m, \u001b[38;5;124m'\u001b[39m\u001b[38;5;124mEFstrType\u001b[39m\u001b[38;5;124m'\u001b[39m, \u001b[38;5;124m'\u001b[39m\u001b[38;5;124mEShapCalcType\u001b[39m\u001b[38;5;124m'\u001b[39m, \u001b[38;5;124m'\u001b[39m\u001b[38;5;124mEFeaturesSelectionAlgorithm\u001b[39m\u001b[38;5;124m'\u001b[39m, \u001b[38;5;124m'\u001b[39m\u001b[38;5;124mEFeaturesSelectionGrouping\u001b[39m\u001b[38;5;124m'\u001b[39m,\n\u001b[1;32m     10\u001b[0m     \u001b[38;5;124m'\u001b[39m\u001b[38;5;124mPool\u001b[39m\u001b[38;5;124m'\u001b[39m, \u001b[38;5;124m'\u001b[39m\u001b[38;5;124mCatBoost\u001b[39m\u001b[38;5;124m'\u001b[39m, \u001b[38;5;124m'\u001b[39m\u001b[38;5;124mCatBoostClassifier\u001b[39m\u001b[38;5;124m'\u001b[39m, \u001b[38;5;124m'\u001b[39m\u001b[38;5;124mCatBoostRegressor\u001b[39m\u001b[38;5;124m'\u001b[39m, \u001b[38;5;124m'\u001b[39m\u001b[38;5;124mCatBoostRanker\u001b[39m\u001b[38;5;124m'\u001b[39m, \u001b[38;5;124m'\u001b[39m\u001b[38;5;124mCatboostError\u001b[39m\u001b[38;5;124m'\u001b[39m,\n\u001b[0;32m   (...)\u001b[0m\n\u001b[1;32m     13\u001b[0m     \u001b[38;5;124m'\u001b[39m\u001b[38;5;124mMultiTargetCustomMetric\u001b[39m\u001b[38;5;124m'\u001b[39m, \u001b[38;5;124m'\u001b[39m\u001b[38;5;124mMultiTargetCustomObjective\u001b[39m\u001b[38;5;124m'\u001b[39m\n\u001b[1;32m     14\u001b[0m ]\n",
      "File \u001b[0;32m~/miniconda3/envs/numerai-env/lib/python3.10/site-packages/catboost/core.py:46\u001b[0m\n\u001b[1;32m     41\u001b[0m \u001b[38;5;28;01mimport\u001b[39;00m\u001b[38;5;250m \u001b[39m\u001b[38;5;21;01mscipy\u001b[39;00m\u001b[38;5;21;01m.\u001b[39;00m\u001b[38;5;21;01msparse\u001b[39;00m\n\u001b[1;32m     44\u001b[0m _typeof \u001b[38;5;241m=\u001b[39m \u001b[38;5;28mtype\u001b[39m\n\u001b[0;32m---> 46\u001b[0m \u001b[38;5;28;01mfrom\u001b[39;00m\u001b[38;5;250m \u001b[39m\u001b[38;5;21;01m.\u001b[39;00m\u001b[38;5;21;01mplot_helpers\u001b[39;00m\u001b[38;5;250m \u001b[39m\u001b[38;5;28;01mimport\u001b[39;00m save_plot_file, try_plot_offline, OfflineMetricVisualizer\n\u001b[1;32m     47\u001b[0m \u001b[38;5;28;01mfrom\u001b[39;00m\u001b[38;5;250m \u001b[39m\u001b[38;5;21;01m.\u001b[39;00m\u001b[38;5;250m \u001b[39m\u001b[38;5;28;01mimport\u001b[39;00m _catboost\n\u001b[1;32m     48\u001b[0m \u001b[38;5;28;01mfrom\u001b[39;00m\u001b[38;5;250m \u001b[39m\u001b[38;5;21;01m.\u001b[39;00m\u001b[38;5;21;01mmetrics\u001b[39;00m\u001b[38;5;250m \u001b[39m\u001b[38;5;28;01mimport\u001b[39;00m BuiltinMetric\n",
      "File \u001b[0;32m~/miniconda3/envs/numerai-env/lib/python3.10/site-packages/catboost/plot_helpers.py:5\u001b[0m\n\u001b[1;32m      2\u001b[0m \u001b[38;5;28;01mimport\u001b[39;00m\u001b[38;5;250m \u001b[39m\u001b[38;5;21;01mos\u001b[39;00m\n\u001b[1;32m      3\u001b[0m \u001b[38;5;28;01mimport\u001b[39;00m\u001b[38;5;250m \u001b[39m\u001b[38;5;21;01mwarnings\u001b[39;00m\n\u001b[0;32m----> 5\u001b[0m \u001b[38;5;28;01mfrom\u001b[39;00m\u001b[38;5;250m \u001b[39m\u001b[38;5;21;01m.\u001b[39;00m\u001b[38;5;250m \u001b[39m\u001b[38;5;28;01mimport\u001b[39;00m _catboost\n\u001b[1;32m      6\u001b[0m fspath \u001b[38;5;241m=\u001b[39m _catboost\u001b[38;5;241m.\u001b[39mfspath\n\u001b[1;32m      9\u001b[0m \u001b[38;5;28;01mdef\u001b[39;00m\u001b[38;5;250m \u001b[39m\u001b[38;5;21mtry_plot_offline\u001b[39m(figs):\n",
      "File \u001b[0;32m_catboost.pyx:1\u001b[0m, in \u001b[0;36minit _catboost\u001b[0;34m()\u001b[0m\n",
      "\u001b[0;31mValueError\u001b[0m: numpy.dtype size changed, may indicate binary incompatibility. Expected 96 from C header, got 88 from PyObject"
     ]
    }
   ],
   "source": [
    "\n",
    "import os\n",
    "import gc\n",
    "import csv\n",
    "import scipy\n",
    "import numerapi\n",
    "import numpy as np\n",
    "import pandas as pd\n",
    "import matplotlib.pyplot as plt\n",
    "import seaborn as sns\n",
    "from sklearn.metrics import mean_squared_error, mean_absolute_error, r2_score\n",
    "from catboost import CatBoostRegressor"
   ]
  },
  {
   "cell_type": "code",
   "execution_count": 8,
   "id": "9a2ebdb2",
   "metadata": {},
   "outputs": [],
   "source": [
    "# Define target and prediction column names\n",
    "TARGET_NAME = \"target\"\n",
    "PREDICTION_NAME = \"prediction\"\n"
   ]
  },
  {
   "cell_type": "markdown",
   "id": "af142473",
   "metadata": {},
   "source": [
    "## 1. Data Loading and Exploration\n",
    "\n",
    "First, let's load the datasets from parquet files and examine their structure."
   ]
  },
  {
   "cell_type": "code",
   "execution_count": 4,
   "id": "316cb0fd",
   "metadata": {},
   "outputs": [
    {
     "ename": "AttributeError",
     "evalue": "`np.unicode_` was removed in the NumPy 2.0 release. Use `np.str_` instead.",
     "output_type": "error",
     "traceback": [
      "\u001b[0;31m---------------------------------------------------------------------------\u001b[0m",
      "\u001b[0;31mAttributeError\u001b[0m                            Traceback (most recent call last)",
      "File \u001b[0;32m~/miniconda3/envs/numerai-env/lib/python3.10/site-packages/pyarrow/pandas-shim.pxi:100\u001b[0m, in \u001b[0;36mpyarrow.lib._PandasAPIShim._check_import\u001b[0;34m()\u001b[0m\n",
      "File \u001b[0;32m~/miniconda3/envs/numerai-env/lib/python3.10/site-packages/pyarrow/pandas-shim.pxi:48\u001b[0m, in \u001b[0;36mpyarrow.lib._PandasAPIShim._import_pandas\u001b[0;34m()\u001b[0m\n",
      "File \u001b[0;32m~/miniconda3/envs/numerai-env/lib/python3.10/site-packages/pyarrow/pandas_compat.py:100\u001b[0m\n\u001b[1;32m     83\u001b[0m             \u001b[38;5;28;01mreturn\u001b[39;00m \u001b[38;5;124m'\u001b[39m\u001b[38;5;124mdecimal\u001b[39m\u001b[38;5;124m'\u001b[39m\n\u001b[1;32m     84\u001b[0m         \u001b[38;5;28;01mreturn\u001b[39;00m \u001b[38;5;124m'\u001b[39m\u001b[38;5;124mobject\u001b[39m\u001b[38;5;124m'\u001b[39m\n\u001b[1;32m     87\u001b[0m _numpy_logical_type_map \u001b[38;5;241m=\u001b[39m {\n\u001b[1;32m     88\u001b[0m     np\u001b[38;5;241m.\u001b[39mbool_: \u001b[38;5;124m'\u001b[39m\u001b[38;5;124mbool\u001b[39m\u001b[38;5;124m'\u001b[39m,\n\u001b[1;32m     89\u001b[0m     np\u001b[38;5;241m.\u001b[39mint8: \u001b[38;5;124m'\u001b[39m\u001b[38;5;124mint8\u001b[39m\u001b[38;5;124m'\u001b[39m,\n\u001b[1;32m     90\u001b[0m     np\u001b[38;5;241m.\u001b[39mint16: \u001b[38;5;124m'\u001b[39m\u001b[38;5;124mint16\u001b[39m\u001b[38;5;124m'\u001b[39m,\n\u001b[1;32m     91\u001b[0m     np\u001b[38;5;241m.\u001b[39mint32: \u001b[38;5;124m'\u001b[39m\u001b[38;5;124mint32\u001b[39m\u001b[38;5;124m'\u001b[39m,\n\u001b[1;32m     92\u001b[0m     np\u001b[38;5;241m.\u001b[39mint64: \u001b[38;5;124m'\u001b[39m\u001b[38;5;124mint64\u001b[39m\u001b[38;5;124m'\u001b[39m,\n\u001b[1;32m     93\u001b[0m     np\u001b[38;5;241m.\u001b[39muint8: \u001b[38;5;124m'\u001b[39m\u001b[38;5;124muint8\u001b[39m\u001b[38;5;124m'\u001b[39m,\n\u001b[1;32m     94\u001b[0m     np\u001b[38;5;241m.\u001b[39muint16: \u001b[38;5;124m'\u001b[39m\u001b[38;5;124muint16\u001b[39m\u001b[38;5;124m'\u001b[39m,\n\u001b[1;32m     95\u001b[0m     np\u001b[38;5;241m.\u001b[39muint32: \u001b[38;5;124m'\u001b[39m\u001b[38;5;124muint32\u001b[39m\u001b[38;5;124m'\u001b[39m,\n\u001b[1;32m     96\u001b[0m     np\u001b[38;5;241m.\u001b[39muint64: \u001b[38;5;124m'\u001b[39m\u001b[38;5;124muint64\u001b[39m\u001b[38;5;124m'\u001b[39m,\n\u001b[1;32m     97\u001b[0m     np\u001b[38;5;241m.\u001b[39mfloat32: \u001b[38;5;124m'\u001b[39m\u001b[38;5;124mfloat32\u001b[39m\u001b[38;5;124m'\u001b[39m,\n\u001b[1;32m     98\u001b[0m     np\u001b[38;5;241m.\u001b[39mfloat64: \u001b[38;5;124m'\u001b[39m\u001b[38;5;124mfloat64\u001b[39m\u001b[38;5;124m'\u001b[39m,\n\u001b[1;32m     99\u001b[0m     \u001b[38;5;124m'\u001b[39m\u001b[38;5;124mdatetime64[D]\u001b[39m\u001b[38;5;124m'\u001b[39m: \u001b[38;5;124m'\u001b[39m\u001b[38;5;124mdate\u001b[39m\u001b[38;5;124m'\u001b[39m,\n\u001b[0;32m--> 100\u001b[0m     \u001b[43mnp\u001b[49m\u001b[38;5;241;43m.\u001b[39;49m\u001b[43municode_\u001b[49m: \u001b[38;5;124m'\u001b[39m\u001b[38;5;124mstring\u001b[39m\u001b[38;5;124m'\u001b[39m,\n\u001b[1;32m    101\u001b[0m     np\u001b[38;5;241m.\u001b[39mbytes_: \u001b[38;5;124m'\u001b[39m\u001b[38;5;124mbytes\u001b[39m\u001b[38;5;124m'\u001b[39m,\n\u001b[1;32m    102\u001b[0m }\n\u001b[1;32m    105\u001b[0m \u001b[38;5;28;01mdef\u001b[39;00m\u001b[38;5;250m \u001b[39m\u001b[38;5;21mget_logical_type_from_numpy\u001b[39m(pandas_collection):\n\u001b[1;32m    106\u001b[0m     \u001b[38;5;28;01mtry\u001b[39;00m:\n",
      "File \u001b[0;32m~/miniconda3/envs/numerai-env/lib/python3.10/site-packages/numpy/__init__.py:397\u001b[0m, in \u001b[0;36m__getattr__\u001b[0;34m(attr)\u001b[0m\n\u001b[1;32m    394\u001b[0m     \u001b[38;5;28;01mraise\u001b[39;00m \u001b[38;5;167;01mAttributeError\u001b[39;00m(__former_attrs__[attr])\n\u001b[1;32m    396\u001b[0m \u001b[38;5;28;01mif\u001b[39;00m attr \u001b[38;5;129;01min\u001b[39;00m __expired_attributes__:\n\u001b[0;32m--> 397\u001b[0m     \u001b[38;5;28;01mraise\u001b[39;00m \u001b[38;5;167;01mAttributeError\u001b[39;00m(\n\u001b[1;32m    398\u001b[0m         \u001b[38;5;124mf\u001b[39m\u001b[38;5;124m\"\u001b[39m\u001b[38;5;124m`np.\u001b[39m\u001b[38;5;132;01m{\u001b[39;00mattr\u001b[38;5;132;01m}\u001b[39;00m\u001b[38;5;124m` was removed in the NumPy 2.0 release. \u001b[39m\u001b[38;5;124m\"\u001b[39m\n\u001b[1;32m    399\u001b[0m         \u001b[38;5;124mf\u001b[39m\u001b[38;5;124m\"\u001b[39m\u001b[38;5;132;01m{\u001b[39;00m__expired_attributes__[attr]\u001b[38;5;132;01m}\u001b[39;00m\u001b[38;5;124m\"\u001b[39m\n\u001b[1;32m    400\u001b[0m     )\n\u001b[1;32m    402\u001b[0m \u001b[38;5;28;01mif\u001b[39;00m attr \u001b[38;5;241m==\u001b[39m \u001b[38;5;124m\"\u001b[39m\u001b[38;5;124mchararray\u001b[39m\u001b[38;5;124m\"\u001b[39m:\n\u001b[1;32m    403\u001b[0m     warnings\u001b[38;5;241m.\u001b[39mwarn(\n\u001b[1;32m    404\u001b[0m         \u001b[38;5;124m\"\u001b[39m\u001b[38;5;124m`np.chararray` is deprecated and will be removed from \u001b[39m\u001b[38;5;124m\"\u001b[39m\n\u001b[1;32m    405\u001b[0m         \u001b[38;5;124m\"\u001b[39m\u001b[38;5;124mthe main namespace in the future. Use an array with a string \u001b[39m\u001b[38;5;124m\"\u001b[39m\n\u001b[1;32m    406\u001b[0m         \u001b[38;5;124m\"\u001b[39m\u001b[38;5;124mor bytes dtype instead.\u001b[39m\u001b[38;5;124m\"\u001b[39m, \u001b[38;5;167;01mDeprecationWarning\u001b[39;00m, stacklevel\u001b[38;5;241m=\u001b[39m\u001b[38;5;241m2\u001b[39m)\n",
      "\u001b[0;31mAttributeError\u001b[0m: `np.unicode_` was removed in the NumPy 2.0 release. Use `np.str_` instead."
     ]
    },
    {
     "name": "stderr",
     "output_type": "stream",
     "text": [
      "Exception ignored in: 'pyarrow.lib._PandasAPIShim._have_pandas_internal'\n",
      "Traceback (most recent call last):\n",
      "  File \"pyarrow/pandas-shim.pxi\", line 100, in pyarrow.lib._PandasAPIShim._check_import\n",
      "  File \"pyarrow/pandas-shim.pxi\", line 48, in pyarrow.lib._PandasAPIShim._import_pandas\n",
      "  File \"/Users/shane/miniconda3/envs/numerai-env/lib/python3.10/site-packages/pyarrow/pandas_compat.py\", line 100, in <module>\n",
      "    np.unicode_: 'string',\n",
      "  File \"/Users/shane/miniconda3/envs/numerai-env/lib/python3.10/site-packages/numpy/__init__.py\", line 397, in __getattr__\n",
      "    raise AttributeError(\n",
      "AttributeError: `np.unicode_` was removed in the NumPy 2.0 release. Use `np.str_` instead.\n"
     ]
    },
    {
     "ename": "AttributeError",
     "evalue": "`np.unicode_` was removed in the NumPy 2.0 release. Use `np.str_` instead.",
     "output_type": "error",
     "traceback": [
      "\u001b[0;31m---------------------------------------------------------------------------\u001b[0m",
      "\u001b[0;31mAttributeError\u001b[0m                            Traceback (most recent call last)",
      "Cell \u001b[0;32mIn[4], line 8\u001b[0m\n\u001b[1;32m      4\u001b[0m validation_path \u001b[38;5;241m=\u001b[39m os\u001b[38;5;241m.\u001b[39mpath\u001b[38;5;241m.\u001b[39mjoin(data_dir, \u001b[38;5;124m'\u001b[39m\u001b[38;5;124mvalidation.parquet\u001b[39m\u001b[38;5;124m'\u001b[39m)\n\u001b[1;32m      5\u001b[0m live_path \u001b[38;5;241m=\u001b[39m os\u001b[38;5;241m.\u001b[39mpath\u001b[38;5;241m.\u001b[39mjoin(data_dir, \u001b[38;5;124m'\u001b[39m\u001b[38;5;124mlive.parquet\u001b[39m\u001b[38;5;124m'\u001b[39m)\n\u001b[0;32m----> 8\u001b[0m training_data \u001b[38;5;241m=\u001b[39m \u001b[43mpd\u001b[49m\u001b[38;5;241;43m.\u001b[39;49m\u001b[43mread_parquet\u001b[49m\u001b[43m(\u001b[49m\u001b[43mtrain_path\u001b[49m\u001b[43m)\u001b[49m\n\u001b[1;32m      9\u001b[0m validation_data \u001b[38;5;241m=\u001b[39m pd\u001b[38;5;241m.\u001b[39mread_parquet(validation_path)\n\u001b[1;32m     10\u001b[0m live_data \u001b[38;5;241m=\u001b[39m pd\u001b[38;5;241m.\u001b[39mread_parquet(live_path)\n",
      "File \u001b[0;32m~/miniconda3/envs/numerai-env/lib/python3.10/site-packages/pandas/io/parquet.py:667\u001b[0m, in \u001b[0;36mread_parquet\u001b[0;34m(path, engine, columns, storage_options, use_nullable_dtypes, dtype_backend, filesystem, filters, **kwargs)\u001b[0m\n\u001b[1;32m    664\u001b[0m     use_nullable_dtypes \u001b[38;5;241m=\u001b[39m \u001b[38;5;28;01mFalse\u001b[39;00m\n\u001b[1;32m    665\u001b[0m check_dtype_backend(dtype_backend)\n\u001b[0;32m--> 667\u001b[0m \u001b[38;5;28;01mreturn\u001b[39;00m \u001b[43mimpl\u001b[49m\u001b[38;5;241;43m.\u001b[39;49m\u001b[43mread\u001b[49m\u001b[43m(\u001b[49m\n\u001b[1;32m    668\u001b[0m \u001b[43m    \u001b[49m\u001b[43mpath\u001b[49m\u001b[43m,\u001b[49m\n\u001b[1;32m    669\u001b[0m \u001b[43m    \u001b[49m\u001b[43mcolumns\u001b[49m\u001b[38;5;241;43m=\u001b[39;49m\u001b[43mcolumns\u001b[49m\u001b[43m,\u001b[49m\n\u001b[1;32m    670\u001b[0m \u001b[43m    \u001b[49m\u001b[43mfilters\u001b[49m\u001b[38;5;241;43m=\u001b[39;49m\u001b[43mfilters\u001b[49m\u001b[43m,\u001b[49m\n\u001b[1;32m    671\u001b[0m \u001b[43m    \u001b[49m\u001b[43mstorage_options\u001b[49m\u001b[38;5;241;43m=\u001b[39;49m\u001b[43mstorage_options\u001b[49m\u001b[43m,\u001b[49m\n\u001b[1;32m    672\u001b[0m \u001b[43m    \u001b[49m\u001b[43muse_nullable_dtypes\u001b[49m\u001b[38;5;241;43m=\u001b[39;49m\u001b[43muse_nullable_dtypes\u001b[49m\u001b[43m,\u001b[49m\n\u001b[1;32m    673\u001b[0m \u001b[43m    \u001b[49m\u001b[43mdtype_backend\u001b[49m\u001b[38;5;241;43m=\u001b[39;49m\u001b[43mdtype_backend\u001b[49m\u001b[43m,\u001b[49m\n\u001b[1;32m    674\u001b[0m \u001b[43m    \u001b[49m\u001b[43mfilesystem\u001b[49m\u001b[38;5;241;43m=\u001b[39;49m\u001b[43mfilesystem\u001b[49m\u001b[43m,\u001b[49m\n\u001b[1;32m    675\u001b[0m \u001b[43m    \u001b[49m\u001b[38;5;241;43m*\u001b[39;49m\u001b[38;5;241;43m*\u001b[39;49m\u001b[43mkwargs\u001b[49m\u001b[43m,\u001b[49m\n\u001b[1;32m    676\u001b[0m \u001b[43m\u001b[49m\u001b[43m)\u001b[49m\n",
      "File \u001b[0;32m~/miniconda3/envs/numerai-env/lib/python3.10/site-packages/pandas/io/parquet.py:281\u001b[0m, in \u001b[0;36mPyArrowImpl.read\u001b[0;34m(self, path, columns, filters, use_nullable_dtypes, dtype_backend, storage_options, filesystem, **kwargs)\u001b[0m\n\u001b[1;32m    273\u001b[0m \u001b[38;5;28;01mtry\u001b[39;00m:\n\u001b[1;32m    274\u001b[0m     pa_table \u001b[38;5;241m=\u001b[39m \u001b[38;5;28mself\u001b[39m\u001b[38;5;241m.\u001b[39mapi\u001b[38;5;241m.\u001b[39mparquet\u001b[38;5;241m.\u001b[39mread_table(\n\u001b[1;32m    275\u001b[0m         path_or_handle,\n\u001b[1;32m    276\u001b[0m         columns\u001b[38;5;241m=\u001b[39mcolumns,\n\u001b[0;32m   (...)\u001b[0m\n\u001b[1;32m    279\u001b[0m         \u001b[38;5;241m*\u001b[39m\u001b[38;5;241m*\u001b[39mkwargs,\n\u001b[1;32m    280\u001b[0m     )\n\u001b[0;32m--> 281\u001b[0m     result \u001b[38;5;241m=\u001b[39m \u001b[43mpa_table\u001b[49m\u001b[38;5;241;43m.\u001b[39;49m\u001b[43mto_pandas\u001b[49m\u001b[43m(\u001b[49m\u001b[38;5;241;43m*\u001b[39;49m\u001b[38;5;241;43m*\u001b[39;49m\u001b[43mto_pandas_kwargs\u001b[49m\u001b[43m)\u001b[49m\n\u001b[1;32m    283\u001b[0m     \u001b[38;5;28;01mif\u001b[39;00m manager \u001b[38;5;241m==\u001b[39m \u001b[38;5;124m\"\u001b[39m\u001b[38;5;124marray\u001b[39m\u001b[38;5;124m\"\u001b[39m:\n\u001b[1;32m    284\u001b[0m         result \u001b[38;5;241m=\u001b[39m result\u001b[38;5;241m.\u001b[39m_as_manager(\u001b[38;5;124m\"\u001b[39m\u001b[38;5;124marray\u001b[39m\u001b[38;5;124m\"\u001b[39m, copy\u001b[38;5;241m=\u001b[39m\u001b[38;5;28;01mFalse\u001b[39;00m)\n",
      "File \u001b[0;32m~/miniconda3/envs/numerai-env/lib/python3.10/site-packages/pyarrow/array.pxi:830\u001b[0m, in \u001b[0;36mpyarrow.lib._PandasConvertible.to_pandas\u001b[0;34m()\u001b[0m\n",
      "File \u001b[0;32m~/miniconda3/envs/numerai-env/lib/python3.10/site-packages/pyarrow/table.pxi:3989\u001b[0m, in \u001b[0;36mpyarrow.lib.Table._to_pandas\u001b[0;34m()\u001b[0m\n",
      "File \u001b[0;32m~/miniconda3/envs/numerai-env/lib/python3.10/site-packages/pyarrow/pandas_compat.py:100\u001b[0m\n\u001b[1;32m     83\u001b[0m             \u001b[38;5;28;01mreturn\u001b[39;00m \u001b[38;5;124m'\u001b[39m\u001b[38;5;124mdecimal\u001b[39m\u001b[38;5;124m'\u001b[39m\n\u001b[1;32m     84\u001b[0m         \u001b[38;5;28;01mreturn\u001b[39;00m \u001b[38;5;124m'\u001b[39m\u001b[38;5;124mobject\u001b[39m\u001b[38;5;124m'\u001b[39m\n\u001b[1;32m     87\u001b[0m _numpy_logical_type_map \u001b[38;5;241m=\u001b[39m {\n\u001b[1;32m     88\u001b[0m     np\u001b[38;5;241m.\u001b[39mbool_: \u001b[38;5;124m'\u001b[39m\u001b[38;5;124mbool\u001b[39m\u001b[38;5;124m'\u001b[39m,\n\u001b[1;32m     89\u001b[0m     np\u001b[38;5;241m.\u001b[39mint8: \u001b[38;5;124m'\u001b[39m\u001b[38;5;124mint8\u001b[39m\u001b[38;5;124m'\u001b[39m,\n\u001b[1;32m     90\u001b[0m     np\u001b[38;5;241m.\u001b[39mint16: \u001b[38;5;124m'\u001b[39m\u001b[38;5;124mint16\u001b[39m\u001b[38;5;124m'\u001b[39m,\n\u001b[1;32m     91\u001b[0m     np\u001b[38;5;241m.\u001b[39mint32: \u001b[38;5;124m'\u001b[39m\u001b[38;5;124mint32\u001b[39m\u001b[38;5;124m'\u001b[39m,\n\u001b[1;32m     92\u001b[0m     np\u001b[38;5;241m.\u001b[39mint64: \u001b[38;5;124m'\u001b[39m\u001b[38;5;124mint64\u001b[39m\u001b[38;5;124m'\u001b[39m,\n\u001b[1;32m     93\u001b[0m     np\u001b[38;5;241m.\u001b[39muint8: \u001b[38;5;124m'\u001b[39m\u001b[38;5;124muint8\u001b[39m\u001b[38;5;124m'\u001b[39m,\n\u001b[1;32m     94\u001b[0m     np\u001b[38;5;241m.\u001b[39muint16: \u001b[38;5;124m'\u001b[39m\u001b[38;5;124muint16\u001b[39m\u001b[38;5;124m'\u001b[39m,\n\u001b[1;32m     95\u001b[0m     np\u001b[38;5;241m.\u001b[39muint32: \u001b[38;5;124m'\u001b[39m\u001b[38;5;124muint32\u001b[39m\u001b[38;5;124m'\u001b[39m,\n\u001b[1;32m     96\u001b[0m     np\u001b[38;5;241m.\u001b[39muint64: \u001b[38;5;124m'\u001b[39m\u001b[38;5;124muint64\u001b[39m\u001b[38;5;124m'\u001b[39m,\n\u001b[1;32m     97\u001b[0m     np\u001b[38;5;241m.\u001b[39mfloat32: \u001b[38;5;124m'\u001b[39m\u001b[38;5;124mfloat32\u001b[39m\u001b[38;5;124m'\u001b[39m,\n\u001b[1;32m     98\u001b[0m     np\u001b[38;5;241m.\u001b[39mfloat64: \u001b[38;5;124m'\u001b[39m\u001b[38;5;124mfloat64\u001b[39m\u001b[38;5;124m'\u001b[39m,\n\u001b[1;32m     99\u001b[0m     \u001b[38;5;124m'\u001b[39m\u001b[38;5;124mdatetime64[D]\u001b[39m\u001b[38;5;124m'\u001b[39m: \u001b[38;5;124m'\u001b[39m\u001b[38;5;124mdate\u001b[39m\u001b[38;5;124m'\u001b[39m,\n\u001b[0;32m--> 100\u001b[0m     \u001b[43mnp\u001b[49m\u001b[38;5;241;43m.\u001b[39;49m\u001b[43municode_\u001b[49m: \u001b[38;5;124m'\u001b[39m\u001b[38;5;124mstring\u001b[39m\u001b[38;5;124m'\u001b[39m,\n\u001b[1;32m    101\u001b[0m     np\u001b[38;5;241m.\u001b[39mbytes_: \u001b[38;5;124m'\u001b[39m\u001b[38;5;124mbytes\u001b[39m\u001b[38;5;124m'\u001b[39m,\n\u001b[1;32m    102\u001b[0m }\n\u001b[1;32m    105\u001b[0m \u001b[38;5;28;01mdef\u001b[39;00m\u001b[38;5;250m \u001b[39m\u001b[38;5;21mget_logical_type_from_numpy\u001b[39m(pandas_collection):\n\u001b[1;32m    106\u001b[0m     \u001b[38;5;28;01mtry\u001b[39;00m:\n",
      "File \u001b[0;32m~/miniconda3/envs/numerai-env/lib/python3.10/site-packages/numpy/__init__.py:397\u001b[0m, in \u001b[0;36m__getattr__\u001b[0;34m(attr)\u001b[0m\n\u001b[1;32m    394\u001b[0m     \u001b[38;5;28;01mraise\u001b[39;00m \u001b[38;5;167;01mAttributeError\u001b[39;00m(__former_attrs__[attr])\n\u001b[1;32m    396\u001b[0m \u001b[38;5;28;01mif\u001b[39;00m attr \u001b[38;5;129;01min\u001b[39;00m __expired_attributes__:\n\u001b[0;32m--> 397\u001b[0m     \u001b[38;5;28;01mraise\u001b[39;00m \u001b[38;5;167;01mAttributeError\u001b[39;00m(\n\u001b[1;32m    398\u001b[0m         \u001b[38;5;124mf\u001b[39m\u001b[38;5;124m\"\u001b[39m\u001b[38;5;124m`np.\u001b[39m\u001b[38;5;132;01m{\u001b[39;00mattr\u001b[38;5;132;01m}\u001b[39;00m\u001b[38;5;124m` was removed in the NumPy 2.0 release. \u001b[39m\u001b[38;5;124m\"\u001b[39m\n\u001b[1;32m    399\u001b[0m         \u001b[38;5;124mf\u001b[39m\u001b[38;5;124m\"\u001b[39m\u001b[38;5;132;01m{\u001b[39;00m__expired_attributes__[attr]\u001b[38;5;132;01m}\u001b[39;00m\u001b[38;5;124m\"\u001b[39m\n\u001b[1;32m    400\u001b[0m     )\n\u001b[1;32m    402\u001b[0m \u001b[38;5;28;01mif\u001b[39;00m attr \u001b[38;5;241m==\u001b[39m \u001b[38;5;124m\"\u001b[39m\u001b[38;5;124mchararray\u001b[39m\u001b[38;5;124m\"\u001b[39m:\n\u001b[1;32m    403\u001b[0m     warnings\u001b[38;5;241m.\u001b[39mwarn(\n\u001b[1;32m    404\u001b[0m         \u001b[38;5;124m\"\u001b[39m\u001b[38;5;124m`np.chararray` is deprecated and will be removed from \u001b[39m\u001b[38;5;124m\"\u001b[39m\n\u001b[1;32m    405\u001b[0m         \u001b[38;5;124m\"\u001b[39m\u001b[38;5;124mthe main namespace in the future. Use an array with a string \u001b[39m\u001b[38;5;124m\"\u001b[39m\n\u001b[1;32m    406\u001b[0m         \u001b[38;5;124m\"\u001b[39m\u001b[38;5;124mor bytes dtype instead.\u001b[39m\u001b[38;5;124m\"\u001b[39m, \u001b[38;5;167;01mDeprecationWarning\u001b[39;00m, stacklevel\u001b[38;5;241m=\u001b[39m\u001b[38;5;241m2\u001b[39m)\n",
      "\u001b[0;31mAttributeError\u001b[0m: `np.unicode_` was removed in the NumPy 2.0 release. Use `np.str_` instead."
     ]
    }
   ],
   "source": [
    "# Define paths to data files\n",
    "data_dir = '../../data/'\n",
    "train_path = os.path.join(data_dir, 'train.parquet')\n",
    "validation_path = os.path.join(data_dir, 'validation.parquet')\n",
    "live_path = os.path.join(data_dir, 'live.parquet')\n",
    "\n",
    "\n",
    "training_data = pd.read_parquet(train_path)\n",
    "validation_data = pd.read_parquet(validation_path)\n",
    "live_data = pd.read_parquet(live_path)\n",
    "print(f\"Training data shape: {training_data.shape}\")\n",
    "print(f\"Validation data shape: {validation_data.shape}\")\n",
    "print(f\"Live data shape: {live_data.shape}\")\n"
   ]
  },
  {
   "cell_type": "code",
   "execution_count": 16,
   "id": "111c6add",
   "metadata": {},
   "outputs": [
    {
     "data": {
      "text/plain": [
       "count    2.746270e+06\n",
       "mean     5.000268e-01\n",
       "std      2.231753e-01\n",
       "min      0.000000e+00\n",
       "25%      2.500000e-01\n",
       "50%      5.000000e-01\n",
       "75%      5.000000e-01\n",
       "max      1.000000e+00\n",
       "Name: target, dtype: float64"
      ]
     },
     "execution_count": 16,
     "metadata": {},
     "output_type": "execute_result"
    }
   ],
   "source": [
    "training_data.target.describe()"
   ]
  },
  {
   "cell_type": "code",
   "execution_count": 12,
   "id": "5cb47c4b",
   "metadata": {},
   "outputs": [
    {
     "data": {
      "text/html": [
       "<div>\n",
       "<style scoped>\n",
       "    .dataframe tbody tr th:only-of-type {\n",
       "        vertical-align: middle;\n",
       "    }\n",
       "\n",
       "    .dataframe tbody tr th {\n",
       "        vertical-align: top;\n",
       "    }\n",
       "\n",
       "    .dataframe thead th {\n",
       "        text-align: right;\n",
       "    }\n",
       "</style>\n",
       "<table border=\"1\" class=\"dataframe\">\n",
       "  <thead>\n",
       "    <tr style=\"text-align: right;\">\n",
       "      <th></th>\n",
       "      <th>era</th>\n",
       "      <th>data_type</th>\n",
       "      <th>feature_shaded_hallucinatory_dactylology</th>\n",
       "      <th>feature_itinerant_hexahedral_photoengraver</th>\n",
       "      <th>feature_prudent_pileate_oven</th>\n",
       "      <th>feature_subalpine_apothegmatical_ajax</th>\n",
       "      <th>feature_pistachio_atypical_malison</th>\n",
       "      <th>feature_symmetrical_spongy_tricentenary</th>\n",
       "      <th>feature_ungrounded_transpontine_winder</th>\n",
       "      <th>feature_aseptic_eely_hemiplegia</th>\n",
       "      <th>...</th>\n",
       "      <th>target_teager2b_20</th>\n",
       "      <th>target_teager2b_60</th>\n",
       "      <th>target_tyler_20</th>\n",
       "      <th>target_tyler_60</th>\n",
       "      <th>target_victor_20</th>\n",
       "      <th>target_victor_60</th>\n",
       "      <th>target_waldo_20</th>\n",
       "      <th>target_waldo_60</th>\n",
       "      <th>target_xerxes_20</th>\n",
       "      <th>target_xerxes_60</th>\n",
       "    </tr>\n",
       "    <tr>\n",
       "      <th>id</th>\n",
       "      <th></th>\n",
       "      <th></th>\n",
       "      <th></th>\n",
       "      <th></th>\n",
       "      <th></th>\n",
       "      <th></th>\n",
       "      <th></th>\n",
       "      <th></th>\n",
       "      <th></th>\n",
       "      <th></th>\n",
       "      <th></th>\n",
       "      <th></th>\n",
       "      <th></th>\n",
       "      <th></th>\n",
       "      <th></th>\n",
       "      <th></th>\n",
       "      <th></th>\n",
       "      <th></th>\n",
       "      <th></th>\n",
       "      <th></th>\n",
       "      <th></th>\n",
       "    </tr>\n",
       "  </thead>\n",
       "  <tbody>\n",
       "    <tr>\n",
       "      <th>n0007b5abb0c3a25</th>\n",
       "      <td>0001</td>\n",
       "      <td>train</td>\n",
       "      <td>3</td>\n",
       "      <td>4</td>\n",
       "      <td>0</td>\n",
       "      <td>3</td>\n",
       "      <td>3</td>\n",
       "      <td>1</td>\n",
       "      <td>1</td>\n",
       "      <td>0</td>\n",
       "      <td>...</td>\n",
       "      <td>0.50</td>\n",
       "      <td>0.50</td>\n",
       "      <td>0.25</td>\n",
       "      <td>0.25</td>\n",
       "      <td>0.25</td>\n",
       "      <td>0.25</td>\n",
       "      <td>0.25</td>\n",
       "      <td>0.00</td>\n",
       "      <td>0.25</td>\n",
       "      <td>0.00</td>\n",
       "    </tr>\n",
       "    <tr>\n",
       "      <th>n003bba8a98662e4</th>\n",
       "      <td>0001</td>\n",
       "      <td>train</td>\n",
       "      <td>4</td>\n",
       "      <td>2</td>\n",
       "      <td>4</td>\n",
       "      <td>4</td>\n",
       "      <td>0</td>\n",
       "      <td>0</td>\n",
       "      <td>4</td>\n",
       "      <td>4</td>\n",
       "      <td>...</td>\n",
       "      <td>0.50</td>\n",
       "      <td>0.50</td>\n",
       "      <td>0.25</td>\n",
       "      <td>0.25</td>\n",
       "      <td>0.25</td>\n",
       "      <td>0.00</td>\n",
       "      <td>0.25</td>\n",
       "      <td>0.25</td>\n",
       "      <td>0.25</td>\n",
       "      <td>0.25</td>\n",
       "    </tr>\n",
       "    <tr>\n",
       "      <th>n003bee128c2fcfc</th>\n",
       "      <td>0001</td>\n",
       "      <td>train</td>\n",
       "      <td>2</td>\n",
       "      <td>4</td>\n",
       "      <td>0</td>\n",
       "      <td>3</td>\n",
       "      <td>0</td>\n",
       "      <td>3</td>\n",
       "      <td>2</td>\n",
       "      <td>4</td>\n",
       "      <td>...</td>\n",
       "      <td>1.00</td>\n",
       "      <td>1.00</td>\n",
       "      <td>1.00</td>\n",
       "      <td>0.75</td>\n",
       "      <td>0.75</td>\n",
       "      <td>0.75</td>\n",
       "      <td>0.75</td>\n",
       "      <td>1.00</td>\n",
       "      <td>0.75</td>\n",
       "      <td>0.75</td>\n",
       "    </tr>\n",
       "    <tr>\n",
       "      <th>n0048ac83aff7194</th>\n",
       "      <td>0001</td>\n",
       "      <td>train</td>\n",
       "      <td>2</td>\n",
       "      <td>1</td>\n",
       "      <td>3</td>\n",
       "      <td>0</td>\n",
       "      <td>3</td>\n",
       "      <td>0</td>\n",
       "      <td>3</td>\n",
       "      <td>3</td>\n",
       "      <td>...</td>\n",
       "      <td>0.25</td>\n",
       "      <td>0.25</td>\n",
       "      <td>0.25</td>\n",
       "      <td>0.25</td>\n",
       "      <td>0.50</td>\n",
       "      <td>0.25</td>\n",
       "      <td>0.25</td>\n",
       "      <td>0.25</td>\n",
       "      <td>0.25</td>\n",
       "      <td>0.25</td>\n",
       "    </tr>\n",
       "    <tr>\n",
       "      <th>n0055a2401ba6480</th>\n",
       "      <td>0001</td>\n",
       "      <td>train</td>\n",
       "      <td>4</td>\n",
       "      <td>1</td>\n",
       "      <td>4</td>\n",
       "      <td>1</td>\n",
       "      <td>0</td>\n",
       "      <td>4</td>\n",
       "      <td>0</td>\n",
       "      <td>4</td>\n",
       "      <td>...</td>\n",
       "      <td>0.50</td>\n",
       "      <td>0.50</td>\n",
       "      <td>0.25</td>\n",
       "      <td>0.50</td>\n",
       "      <td>0.25</td>\n",
       "      <td>0.50</td>\n",
       "      <td>0.25</td>\n",
       "      <td>0.50</td>\n",
       "      <td>0.25</td>\n",
       "      <td>0.50</td>\n",
       "    </tr>\n",
       "  </tbody>\n",
       "</table>\n",
       "<p>5 rows × 2415 columns</p>\n",
       "</div>"
      ],
      "text/plain": [
       "                   era data_type  feature_shaded_hallucinatory_dactylology   \n",
       "id                                                                           \n",
       "n0007b5abb0c3a25  0001     train                                         3  \\\n",
       "n003bba8a98662e4  0001     train                                         4   \n",
       "n003bee128c2fcfc  0001     train                                         2   \n",
       "n0048ac83aff7194  0001     train                                         2   \n",
       "n0055a2401ba6480  0001     train                                         4   \n",
       "\n",
       "                  feature_itinerant_hexahedral_photoengraver   \n",
       "id                                                             \n",
       "n0007b5abb0c3a25                                           4  \\\n",
       "n003bba8a98662e4                                           2   \n",
       "n003bee128c2fcfc                                           4   \n",
       "n0048ac83aff7194                                           1   \n",
       "n0055a2401ba6480                                           1   \n",
       "\n",
       "                  feature_prudent_pileate_oven   \n",
       "id                                               \n",
       "n0007b5abb0c3a25                             0  \\\n",
       "n003bba8a98662e4                             4   \n",
       "n003bee128c2fcfc                             0   \n",
       "n0048ac83aff7194                             3   \n",
       "n0055a2401ba6480                             4   \n",
       "\n",
       "                  feature_subalpine_apothegmatical_ajax   \n",
       "id                                                        \n",
       "n0007b5abb0c3a25                                      3  \\\n",
       "n003bba8a98662e4                                      4   \n",
       "n003bee128c2fcfc                                      3   \n",
       "n0048ac83aff7194                                      0   \n",
       "n0055a2401ba6480                                      1   \n",
       "\n",
       "                  feature_pistachio_atypical_malison   \n",
       "id                                                     \n",
       "n0007b5abb0c3a25                                   3  \\\n",
       "n003bba8a98662e4                                   0   \n",
       "n003bee128c2fcfc                                   0   \n",
       "n0048ac83aff7194                                   3   \n",
       "n0055a2401ba6480                                   0   \n",
       "\n",
       "                  feature_symmetrical_spongy_tricentenary   \n",
       "id                                                          \n",
       "n0007b5abb0c3a25                                        1  \\\n",
       "n003bba8a98662e4                                        0   \n",
       "n003bee128c2fcfc                                        3   \n",
       "n0048ac83aff7194                                        0   \n",
       "n0055a2401ba6480                                        4   \n",
       "\n",
       "                  feature_ungrounded_transpontine_winder   \n",
       "id                                                         \n",
       "n0007b5abb0c3a25                                       1  \\\n",
       "n003bba8a98662e4                                       4   \n",
       "n003bee128c2fcfc                                       2   \n",
       "n0048ac83aff7194                                       3   \n",
       "n0055a2401ba6480                                       0   \n",
       "\n",
       "                  feature_aseptic_eely_hemiplegia  ...  target_teager2b_20   \n",
       "id                                                 ...                       \n",
       "n0007b5abb0c3a25                                0  ...                0.50  \\\n",
       "n003bba8a98662e4                                4  ...                0.50   \n",
       "n003bee128c2fcfc                                4  ...                1.00   \n",
       "n0048ac83aff7194                                3  ...                0.25   \n",
       "n0055a2401ba6480                                4  ...                0.50   \n",
       "\n",
       "                  target_teager2b_60  target_tyler_20  target_tyler_60   \n",
       "id                                                                       \n",
       "n0007b5abb0c3a25                0.50             0.25             0.25  \\\n",
       "n003bba8a98662e4                0.50             0.25             0.25   \n",
       "n003bee128c2fcfc                1.00             1.00             0.75   \n",
       "n0048ac83aff7194                0.25             0.25             0.25   \n",
       "n0055a2401ba6480                0.50             0.25             0.50   \n",
       "\n",
       "                  target_victor_20  target_victor_60  target_waldo_20   \n",
       "id                                                                      \n",
       "n0007b5abb0c3a25              0.25              0.25             0.25  \\\n",
       "n003bba8a98662e4              0.25              0.00             0.25   \n",
       "n003bee128c2fcfc              0.75              0.75             0.75   \n",
       "n0048ac83aff7194              0.50              0.25             0.25   \n",
       "n0055a2401ba6480              0.25              0.50             0.25   \n",
       "\n",
       "                  target_waldo_60  target_xerxes_20  target_xerxes_60  \n",
       "id                                                                     \n",
       "n0007b5abb0c3a25             0.00              0.25              0.00  \n",
       "n003bba8a98662e4             0.25              0.25              0.25  \n",
       "n003bee128c2fcfc             1.00              0.75              0.75  \n",
       "n0048ac83aff7194             0.25              0.25              0.25  \n",
       "n0055a2401ba6480             0.50              0.25              0.50  \n",
       "\n",
       "[5 rows x 2415 columns]"
      ]
     },
     "execution_count": 12,
     "metadata": {},
     "output_type": "execute_result"
    }
   ],
   "source": [
    "# Examine the first few rows of training data\n",
    "training_data.head()"
   ]
  },
  {
   "cell_type": "code",
   "execution_count": 13,
   "id": "a6759220",
   "metadata": {},
   "outputs": [],
   "source": [
    "TARGET_NAME = \"target\"  # Replace with actual target column name\n",
    "PREDICTION_NAME = \"prediction\"  # Replace with actual prediction column name"
   ]
  },
  {
   "cell_type": "code",
   "execution_count": 3,
   "id": "e08538d3",
   "metadata": {},
   "outputs": [
    {
     "ename": "NameError",
     "evalue": "name 'training_data' is not defined",
     "output_type": "error",
     "traceback": [
      "\u001b[0;31m---------------------------------------------------------------------------\u001b[0m",
      "\u001b[0;31mNameError\u001b[0m                                 Traceback (most recent call last)",
      "Cell \u001b[0;32mIn[3], line 2\u001b[0m\n\u001b[1;32m      1\u001b[0m \u001b[38;5;66;03m# Get column names and identify feature columns\u001b[39;00m\n\u001b[0;32m----> 2\u001b[0m all_columns \u001b[38;5;241m=\u001b[39m \u001b[38;5;28mlist\u001b[39m(\u001b[43mtraining_data\u001b[49m\u001b[38;5;241m.\u001b[39mcolumns)\n\u001b[1;32m      3\u001b[0m \u001b[38;5;28mprint\u001b[39m(\u001b[38;5;124mf\u001b[39m\u001b[38;5;124m\"\u001b[39m\u001b[38;5;124mTotal columns: \u001b[39m\u001b[38;5;132;01m{\u001b[39;00m\u001b[38;5;28mlen\u001b[39m(all_columns)\u001b[38;5;132;01m}\u001b[39;00m\u001b[38;5;124m\"\u001b[39m)\n\u001b[1;32m      4\u001b[0m \u001b[38;5;28mprint\u001b[39m(\u001b[38;5;124m\"\u001b[39m\u001b[38;5;130;01m\\n\u001b[39;00m\u001b[38;5;124mSample column names:\u001b[39m\u001b[38;5;124m\"\u001b[39m)\n",
      "\u001b[0;31mNameError\u001b[0m: name 'training_data' is not defined"
     ]
    }
   ],
   "source": [
    "# Get column names and identify feature columns\n",
    "all_columns = list(training_data.columns)\n",
    "print(f\"Total columns: {len(all_columns)}\")\n",
    "print(\"\\nSample column names:\")\n",
    "print(all_columns[:10])\n",
    "\n",
    "# Try to identify feature columns (excluding target, era, etc.)\n",
    "feature_columns = [col for col in all_columns if col not in [TARGET_NAME, PREDICTION_NAME, 'era', 'data_type']]\n",
    "feature_columns = [col for col in feature_columns if not col.startswith('target')]\n",
    "print(\"\\nFeature columns:\")\n",
    "\n",
    "print(f\"\\nNumber of feature columns: {len(feature_columns)}\")\n"
   ]
  },
  {
   "cell_type": "markdown",
   "id": "84e2e96c",
   "metadata": {},
   "source": [
    "## 2. Feature Selection and Target Variable\n",
    "\n",
    "Let's identify the features and target variable for our model."
   ]
  },
  {
   "cell_type": "code",
   "execution_count": 26,
   "id": "e17bbf3c",
   "metadata": {},
   "outputs": [
    {
     "name": "stdout",
     "output_type": "stream",
     "text": [
      "Target column 'target' found in training data\n"
     ]
    },
    {
     "ename": "NameError",
     "evalue": "name 'sns' is not defined",
     "output_type": "error",
     "traceback": [
      "\u001b[0;31m---------------------------------------------------------------------------\u001b[0m",
      "\u001b[0;31mNameError\u001b[0m                                 Traceback (most recent call last)",
      "Cell \u001b[0;32mIn[26], line 8\u001b[0m\n\u001b[1;32m      6\u001b[0m \u001b[38;5;66;03m# Look at the target distribution\u001b[39;00m\n\u001b[1;32m      7\u001b[0m plt\u001b[38;5;241m.\u001b[39mfigure(figsize\u001b[38;5;241m=\u001b[39m(\u001b[38;5;241m10\u001b[39m, \u001b[38;5;241m6\u001b[39m))\n\u001b[0;32m----> 8\u001b[0m \u001b[43msns\u001b[49m\u001b[38;5;241m.\u001b[39mhistplot(training_data[TARGET_NAME], kde\u001b[38;5;241m=\u001b[39m\u001b[38;5;28;01mTrue\u001b[39;00m)\n\u001b[1;32m      9\u001b[0m plt\u001b[38;5;241m.\u001b[39mtitle(\u001b[38;5;124mf\u001b[39m\u001b[38;5;124m\"\u001b[39m\u001b[38;5;124mDistribution of \u001b[39m\u001b[38;5;132;01m{\u001b[39;00mTARGET_NAME\u001b[38;5;132;01m}\u001b[39;00m\u001b[38;5;124m\"\u001b[39m)\n\u001b[1;32m     10\u001b[0m plt\u001b[38;5;241m.\u001b[39mshow()\n",
      "\u001b[0;31mNameError\u001b[0m: name 'sns' is not defined"
     ]
    },
    {
     "data": {
      "text/plain": [
       "<Figure size 1000x600 with 0 Axes>"
      ]
     },
     "metadata": {},
     "output_type": "display_data"
    }
   ],
   "source": [
    "# Confirm we have the target column in our training data\n",
    "\n",
    "\n",
    "if TARGET_NAME in training_data.columns:\n",
    "    print(f\"Target column '{TARGET_NAME}' found in training data\")\n",
    "    # Look at the target distribution\n",
    "    plt.figure(figsize=(10, 6))\n",
    "    sns.histplot(training_data[TARGET_NAME], kde=True)\n",
    "    plt.title(f\"Distribution of {TARGET_NAME}\")\n",
    "    plt.show()\n",
    "    \n",
    "    # Basic statistics of target\n",
    "    print(training_data[TARGET_NAME].describe())\n",
    "else:\n",
    "    print(f\"Target column '{TARGET_NAME}' not found in training data\")\n",
    "    print(\"Available columns:\", training_data.columns.tolist())"
   ]
  },
  {
   "cell_type": "code",
   "execution_count": 12,
   "id": "4c3d219c",
   "metadata": {},
   "outputs": [
    {
     "ename": "NameError",
     "evalue": "name 'feature_columns' is not defined",
     "output_type": "error",
     "traceback": [
      "\u001b[0;31m---------------------------------------------------------------------------\u001b[0m",
      "\u001b[0;31mNameError\u001b[0m                                 Traceback (most recent call last)",
      "Cell \u001b[0;32mIn[12], line 1\u001b[0m\n\u001b[0;32m----> 1\u001b[0m \u001b[38;5;28mprint\u001b[39m(\u001b[43mfeature_columns\u001b[49m)\n",
      "\u001b[0;31mNameError\u001b[0m: name 'feature_columns' is not defined"
     ]
    }
   ],
   "source": [
    "print(feature_columns)"
   ]
  },
  {
   "cell_type": "code",
   "execution_count": null,
   "id": "c6300ebe",
   "metadata": {},
   "outputs": [],
   "source": [
    "training_data"
   ]
  },
  {
   "cell_type": "code",
   "execution_count": 18,
   "id": "a9316b86",
   "metadata": {},
   "outputs": [
    {
     "name": "stdout",
     "output_type": "stream",
     "text": [
      "Total missing values in training data: 48864\n",
      "Total missing values in validation data: 2111227\n",
      "\n",
      "Top 20 features by correlation with target:\n",
      "1. target_cyrusd_20: 1.0000\n",
      "2. target_xerxes_20: 0.9424\n",
      "3. target_caroline_20: 0.9219\n",
      "4. target_sam_20: 0.9116\n",
      "5. target_ralph_20: 0.8949\n",
      "6. target_echo_20: 0.8520\n",
      "7. target_victor_20: 0.8382\n",
      "8. target_waldo_20: 0.8331\n",
      "9. target_delta_20: 0.8056\n",
      "10. target_bravo_20: 0.8007\n",
      "11. target_jeremy_20: 0.7910\n",
      "12. target_charlie_20: 0.7677\n",
      "13. target_alpha_20: 0.7652\n",
      "14. target_claudia_20: 0.7451\n",
      "15. target_teager2b_20: 0.7172\n",
      "16. target_agnes_20: 0.7090\n",
      "17. target_tyler_20: 0.7069\n",
      "18. target_rowan_20: 0.7048\n",
      "19. target_cyrusd_60: 0.4894\n",
      "20. target_xerxes_60: 0.4862\n",
      "\n",
      "Number of features selected for modeling: 20\n",
      "\n",
      "Top 20 features by correlation with target:\n",
      "1. target_cyrusd_20: 1.0000\n",
      "2. target_xerxes_20: 0.9424\n",
      "3. target_caroline_20: 0.9219\n",
      "4. target_sam_20: 0.9116\n",
      "5. target_ralph_20: 0.8949\n",
      "6. target_echo_20: 0.8520\n",
      "7. target_victor_20: 0.8382\n",
      "8. target_waldo_20: 0.8331\n",
      "9. target_delta_20: 0.8056\n",
      "10. target_bravo_20: 0.8007\n",
      "11. target_jeremy_20: 0.7910\n",
      "12. target_charlie_20: 0.7677\n",
      "13. target_alpha_20: 0.7652\n",
      "14. target_claudia_20: 0.7451\n",
      "15. target_teager2b_20: 0.7172\n",
      "16. target_agnes_20: 0.7090\n",
      "17. target_tyler_20: 0.7069\n",
      "18. target_rowan_20: 0.7048\n",
      "19. target_cyrusd_60: 0.4894\n",
      "20. target_xerxes_60: 0.4862\n",
      "\n",
      "Number of features selected for modeling: 20\n"
     ]
    }
   ],
   "source": [
    "# Let's check for missing values in our data\n",
    "missing_values_train = training_data.isnull().sum().sum()\n",
    "missing_values_validation = validation_data.isnull().sum().sum()\n",
    "\n",
    "print(f\"Total missing values in training data: {missing_values_train}\")\n",
    "print(f\"Total missing values in validation data: {missing_values_validation}\")\n",
    "\n",
    "# If we have many features, let's identify the most important ones\n",
    "if len(feature_columns) > 20:\n",
    "    # We'll use correlation with target for a simple feature selection\n",
    "    corr_with_target = training_data[feature_columns].corrwith(training_data[TARGET_NAME]).abs().sort_values(ascending=False)\n",
    "    top_features = corr_with_target.head(20).index.tolist()\n",
    "    print(\"\\nTop 20 features by correlation with target:\")\n",
    "    for i, (feature, corr) in enumerate(corr_with_target.head(20).items(), 1):\n",
    "        print(f\"{i}. {feature}: {corr:.4f}\")\n",
    "    \n",
    "    # We'll use these top features for our model\n",
    "    feature_names = top_features\n",
    "else:\n",
    "    feature_names = feature_columns\n",
    "\n",
    "print(f\"\\nNumber of features selected for modeling: {len(feature_names)}\")"
   ]
  },
  {
   "cell_type": "markdown",
   "id": "b66276cc",
   "metadata": {},
   "source": [
    "## 2.1 Handle Missing Values in Target Variable\n",
    "\n",
    "Before training, we need to check for and handle NaN values in the target variable."
   ]
  },
  {
   "cell_type": "code",
   "execution_count": 23,
   "id": "5a7f6458",
   "metadata": {},
   "outputs": [
    {
     "name": "stdout",
     "output_type": "stream",
     "text": [
      "NaN values in training target: 0 out of 2746270 rows\n",
      "NaN values in validation target: 30919 out of 3596488 rows\n",
      "Removing 30919 rows with NaN targets from validation data\n",
      "Remaining NaN values - Training: 0, Validation: 0\n",
      "Remaining NaN values - Training: 0, Validation: 0\n",
      "NaN values in training features: 48864\n",
      "NaN values in validation features: 967224\n",
      "Filling NaN values in features with median values\n",
      "NaN values in training features: 48864\n",
      "NaN values in validation features: 967224\n",
      "Filling NaN values in features with median values\n",
      "Remaining NaN values in features - Training: 0, Validation: 0\n",
      "Remaining NaN values in features - Training: 0, Validation: 0\n"
     ]
    }
   ],
   "source": [
    "# Define target and prediction column names if not already defined\n",
    "if 'TARGET_NAME' not in globals():\n",
    "    TARGET_NAME = \"target\"\n",
    "    \n",
    "if 'PREDICTION_NAME' not in globals():\n",
    "    PREDICTION_NAME = \"prediction\"\n",
    "    \n",
    "# Check for NaN values in target variables\n",
    "train_nans = training_data[TARGET_NAME].isna().sum()\n",
    "val_nans = validation_data[TARGET_NAME].isna().sum()\n",
    "\n",
    "print(f\"NaN values in training target: {train_nans} out of {len(training_data)} rows\")\n",
    "print(f\"NaN values in validation target: {val_nans} out of {len(validation_data)} rows\")\n",
    "\n",
    "# Remove rows with NaN targets if any exist\n",
    "if train_nans > 0:\n",
    "    print(f\"Removing {train_nans} rows with NaN targets from training data\")\n",
    "    training_data = training_data.dropna(subset=[TARGET_NAME])\n",
    "    \n",
    "if val_nans > 0:\n",
    "    print(f\"Removing {val_nans} rows with NaN targets from validation data\")\n",
    "    validation_data = validation_data.dropna(subset=[TARGET_NAME])\n",
    "\n",
    "# Verify no NaN values remain\n",
    "print(f\"Remaining NaN values - Training: {training_data[TARGET_NAME].isna().sum()}, Validation: {validation_data[TARGET_NAME].isna().sum()}\")\n",
    "\n",
    "# Check for NaN values in features\n",
    "train_feature_nans = training_data[feature_columns].isna().sum().sum()\n",
    "val_feature_nans = validation_data[feature_columns].isna().sum().sum()\n",
    "\n",
    "print(f\"NaN values in training features: {train_feature_nans}\")\n",
    "print(f\"NaN values in validation features: {val_feature_nans}\")\n",
    "\n",
    "# Fill NaN values in features with median\n",
    "if train_feature_nans > 0 or val_feature_nans > 0:\n",
    "    print(\"Filling NaN values in features with median values\")\n",
    "    for col in feature_columns:\n",
    "        median = training_data[col].median()\n",
    "        training_data[col] = training_data[col].fillna(median)\n",
    "        validation_data[col] = validation_data[col].fillna(median)\n",
    "        \n",
    "    # Verify no NaN values remain in features\n",
    "    print(f\"Remaining NaN values in features - Training: {training_data[feature_columns].isna().sum().sum()}, Validation: {validation_data[feature_columns].isna().sum().sum()}\")"
   ]
  },
  {
   "cell_type": "markdown",
   "id": "8be7f237",
   "metadata": {},
   "source": [
    "## 3. Model Training\n",
    "\n",
    "Now let's train our CatBoost regressor model."
   ]
  },
  {
   "cell_type": "code",
   "execution_count": 24,
   "id": "aeee62ac",
   "metadata": {},
   "outputs": [
    {
     "name": "stdout",
     "output_type": "stream",
     "text": [
      "Using CPU for training\n",
      "Starting model training...\n",
      "Starting model training...\n"
     ]
    },
    {
     "data": {
      "application/vnd.jupyter.widget-view+json": {
       "model_id": "fd4557c035584e7ea6f135ecad68a1b6",
       "version_major": 2,
       "version_minor": 0
      },
      "text/plain": [
       "MetricVisualizer(layout=Layout(align_self='stretch', height='500px'))"
      ]
     },
     "metadata": {},
     "output_type": "display_data"
    },
    {
     "name": "stdout",
     "output_type": "stream",
     "text": [
      "0:\tlearn: 0.2120170\ttest: 0.2120764\tbest: 0.2120764 (0)\ttotal: 144ms\tremaining: 2m 23s\n",
      "100:\tlearn: 0.0012576\ttest: 0.0012638\tbest: 0.0012638 (100)\ttotal: 6.71s\tremaining: 59.7s\n",
      "100:\tlearn: 0.0012576\ttest: 0.0012638\tbest: 0.0012638 (100)\ttotal: 6.71s\tremaining: 59.7s\n",
      "200:\tlearn: 0.0000414\ttest: 0.0001013\tbest: 0.0001013 (200)\ttotal: 13.1s\tremaining: 52.2s\n",
      "200:\tlearn: 0.0000414\ttest: 0.0001013\tbest: 0.0001013 (200)\ttotal: 13.1s\tremaining: 52.2s\n",
      "300:\tlearn: 0.0000281\ttest: 0.0000919\tbest: 0.0000919 (300)\ttotal: 18.9s\tremaining: 43.8s\n",
      "300:\tlearn: 0.0000281\ttest: 0.0000919\tbest: 0.0000919 (300)\ttotal: 18.9s\tremaining: 43.8s\n",
      "400:\tlearn: 0.0000217\ttest: 0.0000874\tbest: 0.0000874 (400)\ttotal: 24.6s\tremaining: 36.7s\n",
      "400:\tlearn: 0.0000217\ttest: 0.0000874\tbest: 0.0000874 (400)\ttotal: 24.6s\tremaining: 36.7s\n",
      "500:\tlearn: 0.0000177\ttest: 0.0000845\tbest: 0.0000845 (500)\ttotal: 30.6s\tremaining: 30.4s\n",
      "500:\tlearn: 0.0000177\ttest: 0.0000845\tbest: 0.0000845 (500)\ttotal: 30.6s\tremaining: 30.4s\n",
      "600:\tlearn: 0.0000146\ttest: 0.0000826\tbest: 0.0000826 (600)\ttotal: 36.8s\tremaining: 24.4s\n",
      "600:\tlearn: 0.0000146\ttest: 0.0000826\tbest: 0.0000826 (600)\ttotal: 36.8s\tremaining: 24.4s\n",
      "700:\tlearn: 0.0000126\ttest: 0.0000816\tbest: 0.0000816 (700)\ttotal: 43s\tremaining: 18.3s\n",
      "700:\tlearn: 0.0000126\ttest: 0.0000816\tbest: 0.0000816 (700)\ttotal: 43s\tremaining: 18.3s\n",
      "800:\tlearn: 0.0000110\ttest: 0.0000810\tbest: 0.0000810 (800)\ttotal: 49s\tremaining: 12.2s\n",
      "800:\tlearn: 0.0000110\ttest: 0.0000810\tbest: 0.0000810 (800)\ttotal: 49s\tremaining: 12.2s\n",
      "900:\tlearn: 0.0000096\ttest: 0.0000805\tbest: 0.0000805 (900)\ttotal: 55s\tremaining: 6.04s\n",
      "900:\tlearn: 0.0000096\ttest: 0.0000805\tbest: 0.0000805 (900)\ttotal: 55s\tremaining: 6.04s\n",
      "999:\tlearn: 0.0000087\ttest: 0.0000801\tbest: 0.0000801 (999)\ttotal: 1m\tremaining: 0us\n",
      "\n",
      "bestTest = 8.005558976e-05\n",
      "bestIteration = 999\n",
      "\n",
      "Model saved as gradient_model.cbm\n",
      "999:\tlearn: 0.0000087\ttest: 0.0000801\tbest: 0.0000801 (999)\ttotal: 1m\tremaining: 0us\n",
      "\n",
      "bestTest = 8.005558976e-05\n",
      "bestIteration = 999\n",
      "\n",
      "Model saved as gradient_model.cbm\n"
     ]
    }
   ],
   "source": [
    "# Define model parameters\n",
    "model_filename = \"gradient_model.cbm\"\n",
    "params = {\n",
    "    'iterations': 1000,\n",
    "    'learning_rate': 0.05,\n",
    "    'depth': 6,\n",
    "    'loss_function': 'RMSE',\n",
    "    'eval_metric': 'RMSE',\n",
    "    'random_seed': 42,\n",
    "    'early_stopping_rounds': 50,\n",
    "    'verbose': 100\n",
    "}\n",
    "\n",
    "# Explicitly use CPU to avoid GPU-related errors\n",
    "print(\"Using CPU for training\")\n",
    "\n",
    "# Initialize and train the model\n",
    "model = CatBoostRegressor(**params)\n",
    "\n",
    "# Prepare data\n",
    "X_train = training_data[feature_names].astype(np.float64)\n",
    "y_train = training_data[TARGET_NAME].astype(np.float64)\n",
    "X_val = validation_data[feature_names].astype(np.float64)\n",
    "y_val = validation_data[TARGET_NAME].astype(np.float64)\n",
    "\n",
    "# Extra verification for NaN values\n",
    "assert np.isnan(y_train).sum() == 0, \"NaN values found in training target\"\n",
    "assert np.isnan(y_val).sum() == 0, \"NaN values found in validation target\"\n",
    "\n",
    "print(\"Starting model training...\")\n",
    "try:\n",
    "    model.fit(\n",
    "        X_train,\n",
    "        y_train,\n",
    "        eval_set=(X_val, y_val),\n",
    "        plot=True\n",
    "    )\n",
    "    \n",
    "    # Save the trained model\n",
    "    model.save_model(model_filename)\n",
    "    print(f\"Model saved as {model_filename}\")\n",
    "except Exception as e:\n",
    "    print(f\"Error during training: {str(e)}\")"
   ]
  },
  {
   "cell_type": "markdown",
   "id": "3f1b6e25",
   "metadata": {},
   "source": [
    "## 4. Model Evaluation\n",
    "\n",
    "Let's evaluate our model's performance on the validation dataset."
   ]
  },
  {
   "cell_type": "code",
   "execution_count": 25,
   "id": "95e7df80",
   "metadata": {},
   "outputs": [
    {
     "name": "stdout",
     "output_type": "stream",
     "text": [
      "Model Performance on Validation Data:\n",
      "Mean Squared Error (MSE): 0.000000\n",
      "Root Mean Squared Error (RMSE): 0.000080\n",
      "Mean Absolute Error (MAE): 0.000001\n",
      "R² Score: 1.000000\n"
     ]
    },
    {
     "data": {
      "image/png": "[encoded data removed]",
      "text/plain": [
       "<Figure size 1000x600 with 1 Axes>"
      ]
     },
     "metadata": {},
     "output_type": "display_data"
    },
    {
     "ename": "",
     "evalue": "",
     "output_type": "error",
     "traceback": [
      "\u001b[1;31mThe Kernel crashed while executing code in the current cell or a previous cell. \n",
      "\u001b[1;31mPlease review the code in the cell(s) to identify a possible cause of the failure. \n",
      "\u001b[1;31mClick <a href='https://aka.ms/vscodeJupyterKernelCrash'>here</a> for more info. \n",
      "\u001b[1;31mView Jupyter <a href='command:jupyter.viewOutput'>log</a> for further details."
     ]
    }
   ],
   "source": [
    "# Generate predictions on validation data\n",
    "val_predictions = model.predict(validation_data[feature_names].astype(np.float64))\n",
    "\n",
    "# Calculate evaluation metrics\n",
    "mse = mean_squared_error(validation_data[TARGET_NAME], val_predictions)\n",
    "rmse = np.sqrt(mse)\n",
    "mae = mean_absolute_error(validation_data[TARGET_NAME], val_predictions)\n",
    "r2 = r2_score(validation_data[TARGET_NAME], val_predictions)\n",
    "\n",
    "print(\"Model Performance on Validation Data:\")\n",
    "print(f\"Mean Squared Error (MSE): {mse:.6f}\")\n",
    "print(f\"Root Mean Squared Error (RMSE): {rmse:.6f}\")\n",
    "print(f\"Mean Absolute Error (MAE): {mae:.6f}\")\n",
    "print(f\"R² Score: {r2:.6f}\")\n",
    "\n",
    "# Create a dataframe with actual and predicted values\n",
    "results_df = pd.DataFrame({\n",
    "    'Actual': validation_data[TARGET_NAME],\n",
    "    'Predicted': val_predictions\n",
    "})\n",
    "\n",
    "# Plot actual vs predicted values\n",
    "plt.figure(figsize=(10, 6))\n",
    "plt.scatter(results_df['Actual'], results_df['Predicted'], alpha=0.5)\n",
    "plt.plot([results_df['Actual'].min(), results_df['Actual'].max()], \n",
    "         [results_df['Actual'].min(), results_df['Actual'].max()], 'r--')\n",
    "plt.xlabel('Actual Values')\n",
    "plt.ylabel('Predicted Values')\n",
    "plt.title('Actual vs Predicted Values')\n",
    "plt.grid(True)\n",
    "plt.show()\n",
    "\n",
    "# Plot prediction error distribution\n",
    "results_df['Error'] = results_df['Actual'] - results_df['Predicted']\n",
    "plt.figure(figsize=(10, 6))\n",
    "sns.histplot(results_df['Error'], kde=True)\n",
    "plt.axvline(x=0, color='r', linestyle='--')\n",
    "plt.title('Distribution of Prediction Errors')\n",
    "plt.xlabel('Prediction Error')\n",
    "plt.grid(True)\n",
    "plt.show()"
   ]
  },
  {
   "cell_type": "markdown",
   "id": "dcccda62",
   "metadata": {},
   "source": [
    "## 5. Feature Importance Analysis\n",
    "\n",
    "Let's examine which features were most important for our model."
   ]
  },
  {
   "cell_type": "code",
   "execution_count": null,
   "id": "dd221e20",
   "metadata": {},
   "outputs": [],
   "source": [
    "# Get feature importance from the model\n",
    "feature_importances = model.get_feature_importance()\n",
    "feature_importance_df = pd.DataFrame({\n",
    "    'Feature': feature_names,\n",
    "    'Importance': feature_importances\n",
    "}).sort_values(by='Importance', ascending=False)\n",
    "\n",
    "# Plot feature importances\n",
    "plt.figure(figsize=(12, 8))\n",
    "sns.barplot(x='Importance', y='Feature', data=feature_importance_df.head(20))\n",
    "plt.title('Top 20 Feature Importances')\n",
    "plt.tight_layout()\n",
    "plt.show()\n",
    "\n",
    "# Display the feature importance table\n",
    "print(\"Top 20 Feature Importances:\")\n",
    "print(feature_importance_df.head(20).to_string(index=False))"
   ]
  },
  {
   "cell_type": "markdown",
   "id": "e3329f7f",
   "metadata": {},
   "source": [
    "## 6. Generate Predictions on Live Data\n",
    "\n",
    "Let's use our trained model to make predictions on the live data."
   ]
  },
  {
   "cell_type": "code",
   "execution_count": null,
   "id": "5b705466",
   "metadata": {},
   "outputs": [],
   "source": [
    "# Generate predictions for live data\n",
    "live_predictions = model.predict(live_data[feature_names].astype(np.float64))\n",
    "\n",
    "# Add predictions to the live dataframe\n",
    "live_data[PREDICTION_NAME] = live_predictions\n",
    "\n",
    "# Display the first few predictions\n",
    "print(\"Live Data Predictions (first 5 rows):\")\n",
    "live_pred_sample = live_data[[PREDICTION_NAME]].head()\n",
    "display(live_pred_sample)\n",
    "\n",
    "# Save predictions to a CSV file\n",
    "output_path = 'gradient_model_predictions.csv'\n",
    "live_data[[PREDICTION_NAME]].to_csv(output_path, index=True)\n",
    "print(f\"\\nPredictions saved to {output_path}\")"
   ]
  },
  {
   "cell_type": "code",
   "execution_count": null,
   "id": "3531abfa",
   "metadata": {},
   "outputs": [],
   "source": [
    "from catboost import CatBoostRegressor\n",
    "Modelfile = \"damodel.cbm\"\n",
    "\n",
    "# Define parameters without explicitly setting GPU\n",
    "params = {\n",
    "    'iterations': 1000,\n",
    "    'learning_rate': 0.05,\n",
    "    'depth': 6,\n",
    "    'loss_function': 'RMSE',\n",
    "    'eval_metric': 'RMSE',\n",
    "    'random_seed': 42,\n",
    "    'verbose': 100\n",
    "}\n",
    "\n",
    "model = CatBoostRegressor(**params)\n",
    "model.fit(training_data[feature_names].astype(np.float64), \n",
    "         training_data[TARGET_NAME].astype(np.float64),\n",
    "         eval_set=(validation_data[feature_names].astype(np.float64), \n",
    "                  validation_data[TARGET_NAME].astype(np.float64)))\n",
    "model.save_model(Modelfile)"
   ]
  },
  {
   "cell_type": "code",
   "execution_count": null,
   "id": "9b4990ad",
   "metadata": {},
   "outputs": [],
   "source": []
  }
 ],
 "metadata": {
  "kernelspec": {
   "display_name": ".venv",
   "language": "python",
   "name": "python3"
  },
  "language_info": {
   "codemirror_mode": {
    "name": "ipython",
    "version": 3
   },
   "file_extension": ".py",
   "mimetype": "text/x-python",
   "name": "python",
   "nbconvert_exporter": "python",
   "pygments_lexer": "ipython3",
   "version": "3.10.16"
  }
 },
 "nbformat": 4,
 "nbformat_minor": 5
}
